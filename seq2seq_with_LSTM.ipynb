{
  "nbformat": 4,
  "nbformat_minor": 0,
  "metadata": {
    "colab": {
      "provenance": [],
      "machine_shape": "hm",
      "gpuType": "V100"
    },
    "kernelspec": {
      "name": "python3",
      "display_name": "Python 3"
    },
    "language_info": {
      "name": "python"
    },
    "accelerator": "GPU"
  },
  "cells": [
    {
      "cell_type": "markdown",
      "source": [
        "### 데이터 전처리\n",
        "- spaCy 라이브러리 : spaCy 라이브러리: 문장의 토큰화(tokenization), 태깅(tagging) 등의 전처리 기능을 위한 라이브러리"
      ],
      "metadata": {
        "id": "cFEPUuhkuGGS"
      }
    },
    {
      "cell_type": "code",
      "execution_count": 1,
      "metadata": {
        "id": "a0PbPEUqt-rJ"
      },
      "outputs": [],
      "source": [
        "# 영어와 독일어 전처리 모듈 설치\n",
        "%%capture\n",
        "!python -m spacy download en\n",
        "!python -m spacy download de"
      ]
    },
    {
      "cell_type": "code",
      "source": [
        "import spacy\n",
        "\n",
        "spacy_en = spacy.load('en_core_web_sm') # 영어 토큰화(tokenization)\n",
        "spacy_de = spacy.load('de_core_news_sm') # 독일어 토큰화(tokenization)"
      ],
      "metadata": {
        "id": "ss2G19yJudlA"
      },
      "execution_count": 3,
      "outputs": []
    },
    {
      "cell_type": "code",
      "source": [
        "# 간단히 토큰화(tokenization) 기능 써보기\n",
        "tokenized = spacy_en.tokenizer(\"I am a graduate Student.\")\n",
        "\n",
        "for i, token in enumerate(tokenized):\n",
        "  print(f\"인덱스 {i}: {token}\")"
      ],
      "metadata": {
        "colab": {
          "base_uri": "https://localhost:8080/"
        },
        "id": "yJS6rzHeugJ-",
        "outputId": "d64360f7-97e1-49eb-a50e-6a60f8cd4db1"
      },
      "execution_count": 5,
      "outputs": [
        {
          "output_type": "stream",
          "name": "stdout",
          "text": [
            "인덱스 0: I\n",
            "인덱스 1: am\n",
            "인덱스 2: a\n",
            "인덱스 3: graduate\n",
            "인덱스 4: Student\n",
            "인덱스 5: .\n"
          ]
        }
      ]
    },
    {
      "cell_type": "code",
      "source": [
        "# tokenizer를 가볍게 다양하게 사용해보기\n",
        "tokenized = spacy_en.tokenizer(\"I am a graduate student.  But I do not well at English.\")\n",
        "\n",
        "for i, token in enumerate(tokenized):\n",
        "    print(f\"인덱스 {i}: {token}\")"
      ],
      "metadata": {
        "colab": {
          "base_uri": "https://localhost:8080/"
        },
        "id": "8WiDztiOuyKw",
        "outputId": "2f731431-e9f1-422a-b2b5-c098661f0cb2"
      },
      "execution_count": 6,
      "outputs": [
        {
          "output_type": "stream",
          "name": "stdout",
          "text": [
            "인덱스 0: I\n",
            "인덱스 1: am\n",
            "인덱스 2: a\n",
            "인덱스 3: graduate\n",
            "인덱스 4: student\n",
            "인덱스 5: .\n",
            "인덱스 6:  \n",
            "인덱스 7: But\n",
            "인덱스 8: I\n",
            "인덱스 9: do\n",
            "인덱스 10: not\n",
            "인덱스 11: well\n",
            "인덱스 12: at\n",
            "인덱스 13: English\n",
            "인덱스 14: .\n"
          ]
        }
      ]
    },
    {
      "cell_type": "markdown",
      "source": [
        "### 독일어를 영어로 번역하는 task"
      ],
      "metadata": {
        "id": "qCesQW48vNu3"
      }
    },
    {
      "cell_type": "code",
      "source": [
        "#독일어를 인코더에 들어가는 input data로 쓸것임.\n",
        "#seq2seq 기본 논문에서는 입력문장을 넣을때는 토큰 순서를 바꾸어서 넣는다고 하였음\n",
        "\n",
        "# 독일어(Deutsch) 문장을 토큰화한 뒤에 순서를 뒤집는 함수\n",
        "def tokenize_de(text):\n",
        "    return [token.text for token in spacy_de.tokenizer(text)][::-1]\n",
        "\n",
        "# 영어(English) 문장을 토큰화 하는 함수\n",
        "def tokenize_en(text):\n",
        "    return [token.text for token in spacy_en.tokenizer(text)]\n",
        "\n",
        "\n",
        "tokenized = tokenize_en(\"I love a chicken.\")\n",
        "print(tokenized) # 그냥 문장이 들어오면, 단어 단위로 쪼개준다고 생각하면 편함."
      ],
      "metadata": {
        "colab": {
          "base_uri": "https://localhost:8080/"
        },
        "id": "UBWmrK70vLEo",
        "outputId": "768e2302-8614-4d61-ffd1-f492d3520f7c"
      },
      "execution_count": 9,
      "outputs": [
        {
          "output_type": "stream",
          "name": "stdout",
          "text": [
            "['I', 'love', 'a', 'chicken', '.']\n"
          ]
        }
      ]
    },
    {
      "cell_type": "code",
      "source": [
        "# 최신 torchtext에서는 Field, BucketIterator가 torchtext.legacy.data로 이전됐다고 함.\n",
        "# 그래서 옛날 버전으로 회귀하기\n",
        "# pip => python package 관리 도구 중\n",
        "!pip install -U torchtext==0.6\n",
        "\n",
        "# 만약에 런타임 재부팅 하라는 메시지가 나오면, 다시 처음부터 위에서부터 실행"
      ],
      "metadata": {
        "colab": {
          "base_uri": "https://localhost:8080/"
        },
        "id": "BNCB02f1vlX3",
        "outputId": "39953b46-f712-4211-9516-e4e8c8704eb2"
      },
      "execution_count": 10,
      "outputs": [
        {
          "output_type": "stream",
          "name": "stdout",
          "text": [
            "Collecting torchtext==0.6\n",
            "  Downloading torchtext-0.6.0-py3-none-any.whl (64 kB)\n",
            "\u001b[?25l     \u001b[90m━━━━━━━━━━━━━━━━━━━━━━━━━━━━━━━━━━━━━━━━\u001b[0m \u001b[32m0.0/64.2 kB\u001b[0m \u001b[31m?\u001b[0m eta \u001b[36m-:--:--\u001b[0m\r\u001b[2K     \u001b[90m━━━━━━━━━━━━━━━━━━━━━━━━━━━━━━━━━━━━━━━━\u001b[0m \u001b[32m64.2/64.2 kB\u001b[0m \u001b[31m2.2 MB/s\u001b[0m eta \u001b[36m0:00:00\u001b[0m\n",
            "\u001b[?25hRequirement already satisfied: tqdm in /usr/local/lib/python3.10/dist-packages (from torchtext==0.6) (4.66.1)\n",
            "Requirement already satisfied: requests in /usr/local/lib/python3.10/dist-packages (from torchtext==0.6) (2.31.0)\n",
            "Requirement already satisfied: torch in /usr/local/lib/python3.10/dist-packages (from torchtext==0.6) (2.0.1+cu118)\n",
            "Requirement already satisfied: numpy in /usr/local/lib/python3.10/dist-packages (from torchtext==0.6) (1.23.5)\n",
            "Requirement already satisfied: six in /usr/local/lib/python3.10/dist-packages (from torchtext==0.6) (1.16.0)\n",
            "Collecting sentencepiece (from torchtext==0.6)\n",
            "  Downloading sentencepiece-0.1.99-cp310-cp310-manylinux_2_17_x86_64.manylinux2014_x86_64.whl (1.3 MB)\n",
            "\u001b[2K     \u001b[90m━━━━━━━━━━━━━━━━━━━━━━━━━━━━━━━━━━━━━━━━\u001b[0m \u001b[32m1.3/1.3 MB\u001b[0m \u001b[31m15.3 MB/s\u001b[0m eta \u001b[36m0:00:00\u001b[0m\n",
            "\u001b[?25hRequirement already satisfied: charset-normalizer<4,>=2 in /usr/local/lib/python3.10/dist-packages (from requests->torchtext==0.6) (3.2.0)\n",
            "Requirement already satisfied: idna<4,>=2.5 in /usr/local/lib/python3.10/dist-packages (from requests->torchtext==0.6) (3.4)\n",
            "Requirement already satisfied: urllib3<3,>=1.21.1 in /usr/local/lib/python3.10/dist-packages (from requests->torchtext==0.6) (2.0.4)\n",
            "Requirement already satisfied: certifi>=2017.4.17 in /usr/local/lib/python3.10/dist-packages (from requests->torchtext==0.6) (2023.7.22)\n",
            "Requirement already satisfied: filelock in /usr/local/lib/python3.10/dist-packages (from torch->torchtext==0.6) (3.12.2)\n",
            "Requirement already satisfied: typing-extensions in /usr/local/lib/python3.10/dist-packages (from torch->torchtext==0.6) (4.7.1)\n",
            "Requirement already satisfied: sympy in /usr/local/lib/python3.10/dist-packages (from torch->torchtext==0.6) (1.12)\n",
            "Requirement already satisfied: networkx in /usr/local/lib/python3.10/dist-packages (from torch->torchtext==0.6) (3.1)\n",
            "Requirement already satisfied: jinja2 in /usr/local/lib/python3.10/dist-packages (from torch->torchtext==0.6) (3.1.2)\n",
            "Requirement already satisfied: triton==2.0.0 in /usr/local/lib/python3.10/dist-packages (from torch->torchtext==0.6) (2.0.0)\n",
            "Requirement already satisfied: cmake in /usr/local/lib/python3.10/dist-packages (from triton==2.0.0->torch->torchtext==0.6) (3.27.2)\n",
            "Requirement already satisfied: lit in /usr/local/lib/python3.10/dist-packages (from triton==2.0.0->torch->torchtext==0.6) (16.0.6)\n",
            "Requirement already satisfied: MarkupSafe>=2.0 in /usr/local/lib/python3.10/dist-packages (from jinja2->torch->torchtext==0.6) (2.1.3)\n",
            "Requirement already satisfied: mpmath>=0.19 in /usr/local/lib/python3.10/dist-packages (from sympy->torch->torchtext==0.6) (1.3.0)\n",
            "Installing collected packages: sentencepiece, torchtext\n",
            "  Attempting uninstall: torchtext\n",
            "    Found existing installation: torchtext 0.15.2\n",
            "    Uninstalling torchtext-0.15.2:\n",
            "      Successfully uninstalled torchtext-0.15.2\n",
            "Successfully installed sentencepiece-0.1.99 torchtext-0.6.0\n"
          ]
        }
      ]
    },
    {
      "cell_type": "markdown",
      "source": [
        "\n",
        "###Field의 주요 기능과 속성은 다음과 같습니다:\n",
        "\n",
        "Field 객체는 PyTorch의 torchtext 라이브러리에서 제공하는 클래스로, 텍스트 데이터의 전처리와 변환을 위한 설정과 도구를 제공합니다. 특히, 텍스트 데이터를 로드하고, 토큰화하며, 숫자로 변환하고, 패딩을 추가하는 등의 작업을 수행할 때 사용됩니다.\n",
        "\n",
        "- 토큰화: 주어진 텍스트를 토큰 단위로 분리하는 작업을 수행합니다. 사용자는 원하는 토큰화 함수를 지정할 수 있습니다.\n",
        "\n",
        "- 어휘 구축: 데이터셋에서 모든 유니크한 토큰을 수집하여 어휘를 구축합니다. 이 어휘는 텍스트 토큰을 숫자로 변환하는 데 사용됩니다.\n",
        "\n",
        "- 숫자 변환: 텍스트 토큰을 해당하는 숫자 ID로 변환합니다. 이 변환은 모델 학습에 필요한 숫자 텐서로의 변환을 위해 수행됩니다.\n",
        "\n",
        "- 패딩: 모든 문장이 동일한 길이를 갖도록 패딩 토큰을 추가합니다. 이는 배치 처리를 위해 필요합니다.\n",
        "\n",
        "- 기타 설정: 예를 들어, 문장의 시작과 끝에 특별한 토큰을 추가하거나, 모든 문자를 소문자로 변환하는 등의 작업을 수행할 수 있습니다.\n",
        "\n",
        "###Field 객체를 생성할 때 주로 사용되는 인자들은 다음과 같습니다:\n",
        "\n",
        "- tokenize: 텍스트를 토큰화하는 함수를 지정합니다.\n",
        "- init_token: 각 문장의 시작에 추가될 토큰을 지정합니다.\n",
        "- eos_token: 각 문장의 끝에 추가될 토큰을 지정합니다.\n",
        "- lower: 모든 문자를 소문자로 변환할지 여부를 지정합니다.\n",
        "- pad_token: 패딩에 사용될 토큰을 지정합니다.\n",
        "- unk_token: 어휘에 없는 토큰을 대체할 토큰을 지정합니다.\n",
        "\n",
        "이러한 설정을 통해 Field 객체는 텍스트 데이터를 모델에 적합한 형식으로 쉽게 변환하는 데 도움을 줍니다.\n"
      ],
      "metadata": {
        "id": "3sXaKC7fyEJl"
      }
    },
    {
      "cell_type": "markdown",
      "source": [
        "\n",
        "\n",
        "### BucketIterator의 주요 기능은 다음과 같습니다:\n",
        "BucketIterator는 PyTorch의 torchtext 라이브러리에서 제공하는 클래스로, 텍스트 데이터의 배치를 생성할 때 사용됩니다. 특히, BucketIterator의 주요 목적은 텍스트 데이터의 특성을 고려하여 효율적인 배치 생성을 도와주는 것입니다.\n",
        "\n",
        "텍스트 데이터의 문장들은 다양한 길이를 가질 수 있습니다. 따라서, 모든 문장을 동일한 길이로 만들기 위해 패딩을 추가해야 합니다. 그런데 임의로 문장들을 배치로 묶으면, 매우 짧은 문장과 매우 긴 문장이 함께 배치될 수 있어 많은 패딩이 필요하게 됩니다. 이는 계산적으로 비효율적입니다.\n",
        "\n",
        "비슷한 길이의 문장 그룹화: BucketIterator는 길이가 비슷한 문장들을 함께 그룹화하여, 각 배치마다 필요한 패딩의 양을 최소화합니다.\n",
        "\n",
        "동적 패딩: 각 배치마다 필요한 만큼만 패딩을 추가하여, 계산적인 낭비를 줄입니다.\n",
        "\n",
        "배치 생성: 지정된 배치 크기에 따라 데이터를 배치로 분할합니다.\n",
        "\n",
        "### BucketIterator를 사용하여 배치를 생성할 때 주로 사용되는 인자들은 다음과 같습니다:\n",
        "\n",
        "data: 배치를 생성할 데이터셋을 지정합니다.\n",
        "batch_size: 각 배치에 포함될 문장의 수를 지정합니다.\n",
        "device: 텐서를 어느 디바이스(CPU 또는 GPU)에 할당할지 지정합니다.\n",
        "sort_key: 문장들을 어떤 기준으로 정렬할지 지정하는 함수입니다. 대부분의 경우, 문장의 길이를 기준으로 합니다.\n",
        "shuffle: 각 epoch마다 데이터를 섞을지 여부를 지정합니다.\n",
        "이러한 기능을 통해, BucketIterator는 텍스트 데이터의 특성을 고려하여 효율적인 배치 생성을 도와줍니다.\n",
        "\n",
        "\n",
        "\n",
        "\n",
        "\n"
      ],
      "metadata": {
        "id": "8qsUwXody4sa"
      }
    },
    {
      "cell_type": "code",
      "source": [
        "from torchtext.data import Field, BucketIterator\n",
        "\n",
        "\n",
        "# init_token:  토큰\n",
        "# eos_token:  토큰\n",
        "# lower는 그냥 대문자를 무시할 것인지 설정(True면 전부 다 소문자로 처리)\n",
        "# I love you = i love you (대문자가 없어짐) => 토큰 수를 줄일 수 있어요. (|V|를 줄일 수 있음)\n",
        "SRC = Field(tokenize=tokenize_de, init_token=\"\", eos_token=\"\", lower=True)\n",
        "TRG = Field(tokenize=tokenize_en, init_token=\"\", eos_token=\"\", lower=True)"
      ],
      "metadata": {
        "id": "2X9KICo1yAUp"
      },
      "execution_count": 12,
      "outputs": []
    },
    {
      "cell_type": "code",
      "source": [
        "# Python 라이브러리는 PIP로 설치해서 사용가능\n",
        "# 설치된 라이브러리는 /usr/local/lib/python3.10/dist-packages에 존재\n",
        "\n",
        "!ls /usr/local/lib/python3.10/dist-packages/torchtext/datasets\n",
        "# !cat /usr/local/lib/python3.10/dist-packages/torchtext/datasets/translation.py (torchtext 0.6.0)\n",
        "# !cat /usr/local/lib/python3.10/dist-packages/torchtext/datasets/multi30k"
      ],
      "metadata": {
        "colab": {
          "base_uri": "https://localhost:8080/"
        },
        "id": "UopymG37zAyv",
        "outputId": "6100126d-2300-4bf2-9a57-0b3dc9d036cf"
      },
      "execution_count": 13,
      "outputs": [
        {
          "output_type": "stream",
          "name": "stdout",
          "text": [
            "babi.py\t\t      nli.py\t\t   text_classification.py\n",
            "imdb.py\t\t      __pycache__\t   translation.py\n",
            "__init__.py\t      sequence_tagging.py  trec.py\n",
            "language_modeling.py  sst.py\t\t   unsupervised_learning.py\n"
          ]
        }
      ]
    },
    {
      "cell_type": "code",
      "source": [
        "!pip show torchtext"
      ],
      "metadata": {
        "colab": {
          "base_uri": "https://localhost:8080/"
        },
        "id": "0FVXEgwBzDet",
        "outputId": "7f57a42a-24b0-4b09-9528-434acabf84c3"
      },
      "execution_count": 14,
      "outputs": [
        {
          "output_type": "stream",
          "name": "stdout",
          "text": [
            "Name: torchtext\n",
            "Version: 0.6.0\n",
            "Summary: Text utilities and datasets for PyTorch\n",
            "Home-page: https://github.com/pytorch/text\n",
            "Author: PyTorch core devs and James Bradbury\n",
            "Author-email: jekbradbury@gmail.com\n",
            "License: BSD\n",
            "Location: /usr/local/lib/python3.10/dist-packages\n",
            "Requires: numpy, requests, sentencepiece, six, torch, tqdm\n",
            "Required-by: \n"
          ]
        }
      ]
    },
    {
      "cell_type": "code",
      "source": [
        "import torchtext\n",
        "\n",
        "# print(torchtext.datasets.Multi30k.urls)\n",
        "\n",
        "# 현재 다운로드 링크가 동작하지 않으므로, 동작되는 URL로 변경\n",
        "torchtext.datasets.Multi30k.urls = [\n",
        "    r\"https://raw.githubusercontent.com/neychev/small_DL_repo/master/datasets/Multi30k/training.tar.gz\",\n",
        "    r\"https://raw.githubusercontent.com/neychev/small_DL_repo/master/datasets/Multi30k/validation.tar.gz\",\n",
        "    r\"https://raw.githubusercontent.com/neychev/small_DL_repo/master/datasets/Multi30k/mmt16_task1_test.tar.gz\",\n",
        "]\n",
        "\n",
        "print(torchtext.datasets.Multi30k.urls)"
      ],
      "metadata": {
        "colab": {
          "base_uri": "https://localhost:8080/"
        },
        "id": "-sA1mbnFzFw4",
        "outputId": "7f816bba-4565-486e-9a49-26f0c62300bf"
      },
      "execution_count": 15,
      "outputs": [
        {
          "output_type": "stream",
          "name": "stdout",
          "text": [
            "['https://raw.githubusercontent.com/neychev/small_DL_repo/master/datasets/Multi30k/training.tar.gz', 'https://raw.githubusercontent.com/neychev/small_DL_repo/master/datasets/Multi30k/validation.tar.gz', 'https://raw.githubusercontent.com/neychev/small_DL_repo/master/datasets/Multi30k/mmt16_task1_test.tar.gz']\n"
          ]
        }
      ]
    },
    {
      "cell_type": "code",
      "source": [
        "from torchtext.datasets import Multi30k\n",
        "\n",
        "# 총 30,000개의 (독일어, 영어) 쌍으로 구성된 데이터 세트\n",
        "train_dataset, valid_dataset = Multi30k.splits(exts=(\".de\", \".en\"),\n",
        "                                               fields=(SRC, TRG),\n",
        "                                               root='.custom_data',\n",
        "                                               train=\"train\",\n",
        "                                               validation=\"val\",\n",
        "                                               test=None)"
      ],
      "metadata": {
        "colab": {
          "base_uri": "https://localhost:8080/"
        },
        "id": "gscPNF7nzJFO",
        "outputId": "d1027571-e78f-48f2-e56b-e607ea74e223"
      },
      "execution_count": 16,
      "outputs": [
        {
          "output_type": "stream",
          "name": "stdout",
          "text": [
            "downloading training.tar.gz\n"
          ]
        },
        {
          "output_type": "stream",
          "name": "stderr",
          "text": [
            "training.tar.gz: 100%|██████████| 1.21M/1.21M [00:00<00:00, 12.2MB/s]\n"
          ]
        },
        {
          "output_type": "stream",
          "name": "stdout",
          "text": [
            "downloading validation.tar.gz\n"
          ]
        },
        {
          "output_type": "stream",
          "name": "stderr",
          "text": [
            "validation.tar.gz: 100%|██████████| 46.3k/46.3k [00:00<00:00, 2.94MB/s]\n"
          ]
        },
        {
          "output_type": "stream",
          "name": "stdout",
          "text": [
            "downloading mmt16_task1_test.tar.gz\n"
          ]
        },
        {
          "output_type": "stream",
          "name": "stderr",
          "text": [
            "mmt16_task1_test.tar.gz: 100%|██████████| 67.1k/67.1k [00:00<00:00, 3.24MB/s]\n"
          ]
        }
      ]
    },
    {
      "cell_type": "code",
      "source": [
        "print(f\"학습 데이터셋(training dataset) 크기: {len(train_dataset.examples)}개\")\n",
        "print(f\"평가 데이터셋(validation dataset) 크기: {len(valid_dataset.examples)}개\")"
      ],
      "metadata": {
        "colab": {
          "base_uri": "https://localhost:8080/"
        },
        "id": "cJOUu6J1zM_w",
        "outputId": "37660d74-f5cf-42b9-a365-ff02db5f9574"
      },
      "execution_count": 17,
      "outputs": [
        {
          "output_type": "stream",
          "name": "stdout",
          "text": [
            "학습 데이터셋(training dataset) 크기: 29000개\n",
            "평가 데이터셋(validation dataset) 크기: 1014개\n"
          ]
        }
      ]
    },
    {
      "cell_type": "code",
      "source": [
        "# 학습 데이터 중 하나를 선택해 출력\n",
        "print(vars(train_dataset.examples[30])['src']) # 순서를 바꿨기 때문에, 온점이 제일 첫째로 나옴.\n",
        "print(vars(train_dataset.examples[30])['trg']) # 정상적인 순서"
      ],
      "metadata": {
        "colab": {
          "base_uri": "https://localhost:8080/"
        },
        "id": "EaLl-E-S0inV",
        "outputId": "03d58032-f351-4d8a-c106-7b9875c2e69e"
      },
      "execution_count": 18,
      "outputs": [
        {
          "output_type": "stream",
          "name": "stdout",
          "text": [
            "['.', 'steht', 'urinal', 'einem', 'an', 'kaffee', 'tasse', 'einer', 'mit', 'der', ',', 'mann', 'ein']\n",
            "['a', 'man', 'standing', 'at', 'a', 'urinal', 'with', 'a', 'coffee', 'cup', '.']\n"
          ]
        }
      ]
    },
    {
      "cell_type": "code",
      "source": [
        "# 최소 두 번 이상 등장한 단어만 기록\n",
        "SRC.build_vocab(train_dataset, min_freq=2)\n",
        "TRG.build_vocab(train_dataset, min_freq=2)\n",
        "\n",
        "print(f\"len(SRC): {len(SRC.vocab)}\")\n",
        "print(f\"len(TRG): {len(TRG.vocab)}\")"
      ],
      "metadata": {
        "colab": {
          "base_uri": "https://localhost:8080/"
        },
        "id": "LvA5IHNE0khj",
        "outputId": "a952e717-1832-48b5-c6ad-9b57f034499c"
      },
      "execution_count": 19,
      "outputs": [
        {
          "output_type": "stream",
          "name": "stdout",
          "text": [
            "len(SRC): 7852\n",
            "len(TRG): 5892\n"
          ]
        }
      ]
    },
    {
      "cell_type": "code",
      "source": [
        "# 그러면, 한 번만 등장한 단어들은 컴퓨터에서 어떻게 처리되지?\n",
        "#  토큰으로 처리가 됨.\n",
        "\n",
        "# 자연어 처리 분야에서 \"특수 토큰\"은 보통 4가지가 존재\n",
        "\"\"\"\n",
        "1)  <sos> 문장의 시작을 알림\n",
        "2)  <eos> 문장의 끝을 알림\n",
        "3)  <unk> 처음 보는 단어를 알림\n",
        "4)  <pad> 짧은 문장의 경우 뒤쪽을 으로 채움\n",
        "\"\"\""
      ],
      "metadata": {
        "colab": {
          "base_uri": "https://localhost:8080/",
          "height": 36
        },
        "id": "P1UHYC1r05J8",
        "outputId": "df24c413-8e3d-4a7b-e187-16c6c37244f6"
      },
      "execution_count": 21,
      "outputs": [
        {
          "output_type": "execute_result",
          "data": {
            "text/plain": [
              "'\\n1)  <sos> 문장의 시작을 알림\\n2)  <eos> 문장의 끝을 알림\\n3)  <unk> 처음 보는 단어를 알림\\n4)  <pad> 짧은 문장의 경우 뒤쪽을 으로 채움\\n'"
            ],
            "application/vnd.google.colaboratory.intrinsic+json": {
              "type": "string"
            }
          },
          "metadata": {},
          "execution_count": 21
        }
      ]
    },
    {
      "cell_type": "code",
      "source": [
        "# string to index (stoi)\n",
        "print(TRG.vocab.stoi[\"abcabc\"]) # 없는 단어: 0\n",
        "print(TRG.vocab.stoi[TRG.pad_token]) # 패딩(padding): 1\n",
        "print(TRG.vocab.stoi[\"\"]) # : 2\n",
        "print(TRG.vocab.stoi[\"hello\"])\n",
        "print(TRG.vocab.stoi[\"world\"])"
      ],
      "metadata": {
        "colab": {
          "base_uri": "https://localhost:8080/"
        },
        "id": "L2Ai-hKs1AkB",
        "outputId": "d063f86e-eb76-4282-b388-776207609aa7"
      },
      "execution_count": 22,
      "outputs": [
        {
          "output_type": "stream",
          "name": "stdout",
          "text": [
            "0\n",
            "1\n",
            "2\n",
            "4111\n",
            "1751\n"
          ]
        }
      ]
    },
    {
      "cell_type": "code",
      "source": [
        "# 어떤 배치에서는 단어가 많은 문장만 나오다가\n",
        "# 갑자기 어떤 배치에서는 단어가 적은 문장이 나오다가...\n",
        "# 학습이 불안정해질 수 있음\n",
        "\n",
        "import torch\n",
        "\n",
        "device = torch.device('cuda' if torch.cuda.is_available() else 'cpu')\n",
        "\n",
        "BATCH_SIZE = 128\n",
        "\n",
        "# 일반적인 데이터 로더(data loader)의 iterator와 유사하게 사용 가능\n",
        "train_iterator, valid_iterator = BucketIterator.splits(\n",
        "    (train_dataset, valid_dataset),\n",
        "    batch_size=BATCH_SIZE,\n",
        "    device=device)"
      ],
      "metadata": {
        "id": "crnf5OjA1Ld0"
      },
      "execution_count": 23,
      "outputs": []
    },
    {
      "cell_type": "code",
      "source": [
        "for i, batch in enumerate(train_iterator):\n",
        "    src = batch.src\n",
        "    trg = batch.trg\n",
        "\n",
        "    print(f\"첫 번째 배치 크기: {src.shape}\")\n",
        "\n",
        "    # 현재 배치에 있는 하나의 문장에 포함된 정보 출력\n",
        "    for i in range(src.shape[0]):\n",
        "        print(f\"인덱스 {i}: {src[i][0].item()}\")\n",
        "\n",
        "    # 첫 번째 배치만 확인\n",
        "    break\n",
        ""
      ],
      "metadata": {
        "colab": {
          "base_uri": "https://localhost:8080/"
        },
        "id": "HRc8-p2P1Ntp",
        "outputId": "fd53344b-72e6-4ebe-d572-737f8a99c145"
      },
      "execution_count": 24,
      "outputs": [
        {
          "output_type": "stream",
          "name": "stdout",
          "text": [
            "첫 번째 배치 크기: torch.Size([31, 128])\n",
            "인덱스 0: 2\n",
            "인덱스 1: 3\n",
            "인덱스 2: 188\n",
            "인덱스 3: 3280\n",
            "인덱스 4: 305\n",
            "인덱스 5: 6666\n",
            "인덱스 6: 105\n",
            "인덱스 7: 101\n",
            "인덱스 8: 5\n",
            "인덱스 9: 10\n",
            "인덱스 10: 12\n",
            "인덱스 11: 4\n",
            "인덱스 12: 2\n",
            "인덱스 13: 1\n",
            "인덱스 14: 1\n",
            "인덱스 15: 1\n",
            "인덱스 16: 1\n",
            "인덱스 17: 1\n",
            "인덱스 18: 1\n",
            "인덱스 19: 1\n",
            "인덱스 20: 1\n",
            "인덱스 21: 1\n",
            "인덱스 22: 1\n",
            "인덱스 23: 1\n",
            "인덱스 24: 1\n",
            "인덱스 25: 1\n",
            "인덱스 26: 1\n",
            "인덱스 27: 1\n",
            "인덱스 28: 1\n",
            "인덱스 29: 1\n",
            "인덱스 30: 1\n"
          ]
        }
      ]
    },
    {
      "cell_type": "code",
      "source": [
        "# 첫 번째 배치 크기: torch.Size([27, 128])\n",
        "\n",
        "# 현재 배치에 포함된 문장의 수가 128개 (batch_size = 128)\n",
        "# 이때 27이 무엇이냐면? 128개 중에서 가장 긴 문장의 토큰 개수\n",
        "\n",
        "\"\"\"\n",
        "batch_size = 2\n",
        "\n",
        "\"I love you\"\n",
        "\"I like your football team\"\n",
        "\n",
        "=> 학습 데이터 상에서는\n",
        "[, \"i\", \"love\", \"you\", , , ]\n",
        "[, \"i\", \"like\", \"your\", \"football\", \"team\", ]\n",
        "\n",
        "\"\"\""
      ],
      "metadata": {
        "colab": {
          "base_uri": "https://localhost:8080/",
          "height": 53
        },
        "id": "EUDGcjC81Q2J",
        "outputId": "05641762-7d30-41be-e6db-735b6289b27a"
      },
      "execution_count": 25,
      "outputs": [
        {
          "output_type": "execute_result",
          "data": {
            "text/plain": [
              "'\\nbatch_size = 2\\n\\n\"I love you\"\\n\"I like your football team\"\\n\\n=> 학습 데이터 상에서는\\n[, \"i\", \"love\", \"you\", , , ]\\n[, \"i\", \"like\", \"your\", \"football\", \"team\", ]\\n\\n'"
            ],
            "application/vnd.google.colaboratory.intrinsic+json": {
              "type": "string"
            }
          },
          "metadata": {},
          "execution_count": 25
        }
      ]
    },
    {
      "cell_type": "markdown",
      "source": [
        "### 인코더"
      ],
      "metadata": {
        "id": "_aLWRSMl2mQo"
      }
    },
    {
      "cell_type": "code",
      "source": [
        "import torch.nn as nn\n",
        "\n",
        "# 인코더(Encoder) 아키텍처 정의\n",
        "class Encoder(nn.Module):\n",
        "    def __init__(self, input_dim, embed_dim, hidden_dim, n_layers, dropout_ratio):\n",
        "        super().__init__()\n",
        "\n",
        "        # 임베딩(embedding)은 원-핫 인코딩(one-hot encoding)을 특정 차원의 임베딩으로 매핑하는 레이어\n",
        "        self.embedding = nn.Embedding(input_dim, embed_dim)\n",
        "\n",
        "        # LSTM 레이어\n",
        "        self.hidden_dim = hidden_dim\n",
        "        self.n_layers = n_layers\n",
        "        self.rnn = nn.LSTM(embed_dim, hidden_dim, n_layers, dropout=dropout_ratio)\n",
        "\n",
        "        # 드롭아웃(dropout)\n",
        "        self.dropout = nn.Dropout(dropout_ratio)\n",
        "\n",
        "    # 인코더는 소스 문장을 입력으로 받아 문맥 벡터(context vector)를 반환\n",
        "    def forward(self, src):\n",
        "        # src = []\"I love you dady\"\n",
        "        # src = \" I love you    \"\n",
        "        # src = \"2 328 594 291 0 1 1 3\"\n",
        "        # src: [단어 개수, 배치 크기]: 각 단어의 인덱스(index) 정보\n",
        "        # 토큰별로 |V| 크기의 one-hot 벡터\n",
        "        # src = [10,000차원 벡터, 10,000차원 벡터, 10,000차원 벡터, 10,000차원 벡터, 10,000차원 벡터, 10000차원 벡터, 10,000차원 벡터]\n",
        "        embedded = self.dropout(self.embedding(src))\n",
        "        # embedded: [단어 개수, 배치 크기, 임베딩 차원] (임베딩 차원이 512라면)\n",
        "        # src = [512차원 벡터, 512차원 벡터, 512차원 벡터, 512차원 벡터 ,512차원 벡터, 512차원 벡터, 512차원 벡터]\n",
        "\n",
        "        outputs, (hidden, cell) = self.rnn(embedded)\n",
        "        # outputs: [단어 개수, 배치 크기, 히든 차원]: 현재 단어의 출력 정보\n",
        "        # hidden: [레이어 개수, 배치 크기, 히든 차원]: 현재까지의 모든 단어의 정보\n",
        "        # cell: [레이어 개수, 배치 크기, 히든 차원]: 현재까지의 모든 단어의 정보\n",
        "\n",
        "        # hidden, cell은 가장 마지막 토큰을 넣었을 때 나온 hidden states가 됨.\n",
        "        # => 이것을 기계 번역에서 디코더에 들어가는 초기 입력\n",
        "\n",
        "        # 문맥 벡터(context vector) 반환\n",
        "        return hidden, cell"
      ],
      "metadata": {
        "id": "Xlubw7F51vTH"
      },
      "execution_count": 36,
      "outputs": []
    },
    {
      "cell_type": "markdown",
      "source": [
        "### 디코더"
      ],
      "metadata": {
        "id": "Z0KUCpq52nzj"
      }
    },
    {
      "cell_type": "code",
      "source": [
        "# 디코더(Decoder) 아키텍처 정의\n",
        "class Decoder(nn.Module):\n",
        "    def __init__(self, output_dim, embed_dim, hidden_dim, n_layers, dropout_ratio):\n",
        "        super().__init__()\n",
        "\n",
        "        # 임베딩(embedding)은 원-핫 인코딩(one-hot encoding) 말고 특정 차원의 임베딩으로 매핑하는 레이어\n",
        "        self.embedding = nn.Embedding(output_dim, embed_dim)\n",
        "\n",
        "        # LSTM 레이어\n",
        "        self.hidden_dim = hidden_dim\n",
        "        self.n_layers = n_layers\n",
        "        self.rnn = nn.LSTM(embed_dim, hidden_dim, n_layers, dropout=dropout_ratio)\n",
        "\n",
        "        # FC 레이어 (인코더와 구조적으로 다른 부분)\n",
        "        self.output_dim = output_dim\n",
        "        self.fc_out = nn.Linear(hidden_dim, output_dim)\n",
        "\n",
        "        # 드롭아웃(dropout)\n",
        "        self.dropout = nn.Dropout(dropout_ratio)\n",
        "\n",
        "   # 디코더는 현재까지 출력된 문장에 대한 정보를 입력으로 받아 타겟 문장을 반환\n",
        "    def forward(self, input, hidden, cell):\n",
        "        # seq2seq는 항상 (1) 이전에 출력한 단어와 (2) 이전까지의 정보를 담은 hidden state가 입력으로 들어감\n",
        "        # 그러므로, 이전에 출력했던 모든 단어에 대한 것은 필요 X\n",
        "        # 이 디코더를 가 나올 때까지 여러 번 forward해서 전체 문자열을 출력할 것.\n",
        "\n",
        "        # input: [배치 크기]: 단어의 개수는 항상 1개이도록 구현\n",
        "        # hidden: [레이어 개수, 배치 크기, 히든 차원]\n",
        "        # cell = context: [레이어 개수, 배치 크기, 히든 차원]\n",
        "        input = input.unsqueeze(0)\n",
        "\n",
        "        # PyTorch에서 squeeze()는 차원 축소 (불필요한 차원 제거)\n",
        "        # PyTorch에서 unsqueeze()는 차원 늘리기 (그냥 크기가 1인 axis 추가)\n",
        "\n",
        "        # input: [단어 개수 = 1, 배치 크기]\n",
        "\n",
        "        embedded = self.dropout(self.embedding(input))\n",
        "        # embedded: [단어 개수, 배치 크기, 임베딩 차원]\n",
        "\n",
        "        output, (hidden, cell) = self.rnn(embedded, (hidden, cell))\n",
        "        # output: [단어 개수 = 1, 배치 크기, 히든 차원]: 현재 단어의 출력 정보\n",
        "        # hidden: [레이어 개수, 배치 크기, 히든 차원]: 현재까지의 모든 단어의 정보\n",
        "        # cell: [레이어 개수, 배치 크기, 히든 차원]: 현재까지의 모든 단어의 정보\n",
        "\n",
        "        # 단어 개수는 어차피 1개이므로 차원 제거\n",
        "        prediction = self.fc_out(output.squeeze(0))\n",
        "        # prediction = [배치 크기, 출력 차원]\n",
        "\n",
        "        # (현재 출력 단어, 현재까지의 모든 단어의 정보, 현재까지의 모든 단어의 정보)\n",
        "        return prediction, hidden, cell"
      ],
      "metadata": {
        "id": "KacjqH_E2NlH"
      },
      "execution_count": 37,
      "outputs": []
    },
    {
      "cell_type": "code",
      "source": [
        "class Seq2Seq(nn.Module):\n",
        "    def __init__(self, encoder, decoder, device):\n",
        "        super().__init__()\n",
        "\n",
        "        self.encoder = encoder\n",
        "        self.decoder = decoder\n",
        "        self.device = device\n",
        "\n",
        "    # 학습할 때는 완전한 형태의 소스 문장, 타겟 문장, teacher_forcing_ratio를 넣기\n",
        "    def forward(self, src, trg, teacher_forcing_ratio=0.5):\n",
        "        # src: [단어 개수, 배치 크기]\n",
        "        # trg: [단어 개수, 배치 크기]\n",
        "        # 먼저 인코더를 거쳐 문맥 벡터(context vector)를 추출\n",
        "        hidden, cell = self.encoder(src)\n",
        "\n",
        "        # 디코더(decoder)의 최종 결과를 담을 텐서 객체 만들기\n",
        "        trg_len = trg.shape[0] # 단어 개수\n",
        "        batch_size = trg.shape[1] # 배치 크기\n",
        "        trg_vocab_size = self.decoder.output_dim # 출력 차원\n",
        "        outputs = torch.zeros(trg_len, batch_size, trg_vocab_size).to(self.device)\n",
        "\n",
        "        # 첫 번째 입력은 항상  토큰\n",
        "        input = trg[0, :]\n",
        "\n",
        "       # 타겟 단어의 개수만큼 반복하여 디코더에 포워딩(forwarding)\n",
        "        for t in range(1, trg_len):\n",
        "            # 가 나올 때까지 재귀적으로 사용\n",
        "            output, hidden, cell = self.decoder(input, hidden, cell)\n",
        "\n",
        "            outputs[t] = output # FC를 거쳐서 나온 현재의 출력 단어 정보\n",
        "            top1 = output.argmax(1) # 가장 확률이 높은 단어의 인덱스 추출\n",
        "\n",
        "            # 현재 구조상, 만약에 디코더 입장에서 이전 단어가 틀리면, 앞으로의 단어도 계속 틀릴 가능성이 매우 높음\n",
        "            #  => 이 상태로 그대로 학습하면, 너무 많이 틀려서 loss가 과도하게 커짐\n",
        "            # \"그래서, 강제로 특정 확률에 해당할 때는 \"앞으로의 단어\"를 고정해서 정답으로 알려주는 방법을 사용\" (teacher forcing 방법)\n",
        "\n",
        "            # teacher_forcing_ratio: 학습할 때 실제 목표 출력(ground-truth)을 사용하는 비율\n",
        "            teacher_force = random.random() < teacher_forcing_ratio # random.random()은 [0, 1] uniform하게 값을 뽑음 => 평균 0.5\n",
        "\n",
        "            # 마치 선생님(teacher)이 현재 단어는 \"love\"라고 출력해야 하는데, \"hate\"이라고 출력했네? 이 부분은 고쳐줄게.\n",
        "            # => 정답 자체를 교정(recursive 도중에)\n",
        "            # 만약 teacher_force의 값이 True라면, 강제로 \"정답\"을 다음 입력으로 넣어주는 겁니다. (강제로 정답을 맞추도록 forcing)\n",
        "            input = trg[t] if teacher_force else top1 # 현재의 출력 결과를 다음 입력에서 넣기\n",
        "\n",
        "        return outputs"
      ],
      "metadata": {
        "id": "fI5cu2ZM2nC5"
      },
      "execution_count": 38,
      "outputs": []
    },
    {
      "cell_type": "code",
      "source": [
        "INPUT_DIM = len(SRC.vocab)\n",
        "OUTPUT_DIM = len(TRG.vocab)\n",
        "ENCODER_EMBED_DIM = 256 # 각 토큰(단어)가 표현되는 차원\n",
        "DECODER_EMBED_DIM = 256 # 각 토큰(단어)가 표현되는 차원\n",
        "HIDDEN_DIM = 512 # LSTM 내부에서 사용되는 hidden vector의 차원\n",
        "N_LAYERS = 2 # LSTM을 얼마나 높게 쌓을 것인지\n",
        "ENC_DROPOUT_RATIO = 0.5 # dropout => 모델 성능 향상 기법 중 하나\n",
        "DEC_DROPOUT_RATIO = 0.5 # dropout => 모델 성능 향상 기법 중 하나"
      ],
      "metadata": {
        "id": "m7MNqU142tI-"
      },
      "execution_count": 39,
      "outputs": []
    },
    {
      "cell_type": "code",
      "source": [
        "# 인코더(encoder)와 디코더(decoder) 객체 선언\n",
        "enc = Encoder(INPUT_DIM, ENCODER_EMBED_DIM, HIDDEN_DIM, N_LAYERS, ENC_DROPOUT_RATIO)\n",
        "dec = Decoder(OUTPUT_DIM, DECODER_EMBED_DIM, HIDDEN_DIM, N_LAYERS, DEC_DROPOUT_RATIO)\n",
        "\n",
        "# Seq2Seq 객체 선언\n",
        "model = Seq2Seq(enc, dec, device).to(device)"
      ],
      "metadata": {
        "id": "h3t0e3S_2upv"
      },
      "execution_count": 40,
      "outputs": []
    },
    {
      "cell_type": "code",
      "source": [
        "def init_weights(m):\n",
        "    for name, param in m.named_parameters():\n",
        "        nn.init.uniform_(param.data, -0.08, 0.08)\n",
        "\n",
        "model.apply(init_weights)"
      ],
      "metadata": {
        "colab": {
          "base_uri": "https://localhost:8080/"
        },
        "id": "Q0n8Yids2wKn",
        "outputId": "45d5f80f-369e-49cd-8b1d-3fa397d6c0a6"
      },
      "execution_count": 41,
      "outputs": [
        {
          "output_type": "execute_result",
          "data": {
            "text/plain": [
              "Seq2Seq(\n",
              "  (encoder): Encoder(\n",
              "    (embedding): Embedding(7852, 256)\n",
              "    (rnn): LSTM(256, 512, num_layers=2, dropout=0.5)\n",
              "    (dropout): Dropout(p=0.5, inplace=False)\n",
              "  )\n",
              "  (decoder): Decoder(\n",
              "    (embedding): Embedding(5892, 256)\n",
              "    (rnn): LSTM(256, 512, num_layers=2, dropout=0.5)\n",
              "    (fc_out): Linear(in_features=512, out_features=5892, bias=True)\n",
              "    (dropout): Dropout(p=0.5, inplace=False)\n",
              "  )\n",
              ")"
            ]
          },
          "metadata": {},
          "execution_count": 41
        }
      ]
    },
    {
      "cell_type": "markdown",
      "source": [
        "### Optimizer 설정"
      ],
      "metadata": {
        "id": "eW2NJZYK21EE"
      }
    },
    {
      "cell_type": "code",
      "source": [
        "import torch.optim as optim\n",
        "\n",
        "# Adam optimizer로 학습 최적화\n",
        "optimizer = optim.Adam(model.parameters())\n",
        "\n",
        "# 뒷 부분의 패딩(padding)에 대해서는 값 무시\n",
        "TRG_PAD_IDX = TRG.vocab.stoi[TRG.pad_token]\n",
        "criterion = nn.CrossEntropyLoss(ignore_index=TRG_PAD_IDX)##"
      ],
      "metadata": {
        "id": "40fYeTDX2yrN"
      },
      "execution_count": 42,
      "outputs": []
    },
    {
      "cell_type": "markdown",
      "source": [
        "### 학습 & 평가"
      ],
      "metadata": {
        "id": "nhO1xpBU25Zs"
      }
    },
    {
      "cell_type": "code",
      "source": [
        "# 모델 학습(train) 함수\n",
        "def train(model, iterator, optimizer, criterion, clip):\n",
        "    model.train() # 학습 모드\n",
        "    epoch_loss = 0\n",
        "\n",
        "    # 전체 학습 데이터를 확인하며\n",
        "    for i, batch in enumerate(iterator):\n",
        "        src = batch.src\n",
        "        trg = batch.trg\n",
        "\n",
        "        optimizer.zero_grad()\n",
        "\n",
        "        output = model(src, trg)\n",
        "        # output: [출력 단어 개수, 배치 크기, 출력 차원]\n",
        "        output_dim = output.shape[-1]\n",
        "\n",
        "        # 출력 단어의 인덱스 0은 사용하지 않음\n",
        "        output = output[1:].view(-1, output_dim)\n",
        "        # output = [(출력 단어의 개수 - 1) * batch size, output dim]\n",
        "        trg = trg[1:].view(-1)\n",
        "        # trg = [(타겟 단어의 개수 - 1) * batch size]\n",
        "\n",
        "        # 모델의 출력 결과와 타겟 문장을 비교하여 손실 계산\n",
        "        loss = criterion(output, trg)\n",
        "        loss.backward() # 기울기(gradient) 계산\n",
        "       # 기울기(gradient) clipping 진행\n",
        "        torch.nn.utils.clip_grad_norm_(model.parameters(), clip)\n",
        "\n",
        "        # 파라미터 업데이트\n",
        "        optimizer.step()\n",
        "\n",
        "        # 전체 손실 값 계산\n",
        "        epoch_loss += loss.item()\n",
        "\n",
        "    return epoch_loss / len(iterator)"
      ],
      "metadata": {
        "id": "zDWTH9t223Na"
      },
      "execution_count": 43,
      "outputs": []
    },
    {
      "cell_type": "code",
      "source": [
        "# 모델 평가(evaluate) 함수\n",
        "def evaluate(model, iterator, criterion):\n",
        "    model.eval() # 평가 모드\n",
        "    epoch_loss = 0\n",
        "\n",
        "    # torch.no_grad() => 이 안에 들어가는 모델 및 입력에 대해서는 \"기울기 추적\"을 하지 않음.\n",
        "    # (inference = 학습된 모델을 추론할 때 / 쓸 때만 사용)\n",
        "    with torch.no_grad():\n",
        "        # 전체 평가 데이터를 확인하며\n",
        "        for i, batch in enumerate(iterator):\n",
        "            src = batch.src\n",
        "            trg = batch.trg\n",
        "\n",
        "            # 평가할 때 teacher forcing는 사용하지 않음\n",
        "            output = model(src, trg, 0)\n",
        "            # output: [출력 단어 개수, 배치 크기, 출력 차원]\n",
        "            output_dim = output.shape[-1]\n",
        "\n",
        "                       # 출력 단어의 인덱스 0은 사용하지 않음\n",
        "            output = output[1:].view(-1, output_dim)\n",
        "            # output = [(출력 단어의 개수 - 1) * batch size, output dim]\n",
        "            trg = trg[1:].view(-1)\n",
        "            # trg = [(타겟 단어의 개수 - 1) * batch size]\n",
        "\n",
        "            # 모델의 출력 결과와 타겟 문장을 비교하여 손실 계산\n",
        "            loss = criterion(output, trg)\n",
        "\n",
        "            # 전체 손실 값 계산\n",
        "            epoch_loss += loss.item()\n",
        "\n",
        "    return epoch_loss / len(iterator)"
      ],
      "metadata": {
        "id": "A69vJK4R3DiG"
      },
      "execution_count": 44,
      "outputs": []
    },
    {
      "cell_type": "code",
      "source": [
        "def epoch_time(start_time, end_time):\n",
        "    elapsed_time = end_time - start_time\n",
        "    elapsed_mins = int(elapsed_time / 60)\n",
        "    elapsed_secs = int(elapsed_time - (elapsed_mins * 60))\n",
        "    return elapsed_mins, elapsed_secs"
      ],
      "metadata": {
        "id": "J0wdv4db3GRH"
      },
      "execution_count": 45,
      "outputs": []
    },
    {
      "cell_type": "code",
      "source": [
        "import time\n",
        "import math\n",
        "import random\n",
        "\n",
        "N_EPOCHS = 20\n",
        "CLIP = 1\n",
        "best_valid_loss = float('inf')\n",
        "\n",
        "for epoch in range(N_EPOCHS):\n",
        "    start_time = time.time() # 시작 시간 기록\n",
        "\n",
        "    train_loss = train(model, train_iterator, optimizer, criterion, CLIP)\n",
        "    valid_loss = evaluate(model, valid_iterator, criterion)\n",
        "\n",
        "    end_time = time.time() # 종료 시간 기록\n",
        "    epoch_mins, epoch_secs = epoch_time(start_time, end_time)\n",
        "\n",
        "    if valid_loss < best_valid_loss:\n",
        "        best_valid_loss = valid_loss\n",
        "        torch.save(model.state_dict(), 'seq2seq.pt')\n",
        "\n",
        "    print(f'Epoch: {epoch + 1:02} | Time: {epoch_mins}m {epoch_secs}s')\n",
        "    print(f'\\tTrain Loss: {train_loss:.3f} | Train PPL: {math.exp(train_loss):.3f}')\n",
        "    print(f'\\tValidation Loss: {valid_loss:.3f} | Validation PPL: {math.exp(valid_loss):.3f}')"
      ],
      "metadata": {
        "colab": {
          "base_uri": "https://localhost:8080/"
        },
        "id": "X8z8RF7r3JWQ",
        "outputId": "9e7ec611-03d7-4f9c-c4d1-95c428b4cd6f"
      },
      "execution_count": 47,
      "outputs": [
        {
          "output_type": "stream",
          "name": "stdout",
          "text": [
            "Epoch: 01 | Time: 0m 24s\n",
            "\tTrain Loss: 5.062 | Train PPL: 157.948\n",
            "\tValidation Loss: 4.971 | Validation PPL: 144.192\n",
            "Epoch: 02 | Time: 0m 23s\n",
            "\tTrain Loss: 4.515 | Train PPL: 91.355\n",
            "\tValidation Loss: 4.773 | Validation PPL: 118.295\n",
            "Epoch: 03 | Time: 0m 23s\n",
            "\tTrain Loss: 4.222 | Train PPL: 68.173\n",
            "\tValidation Loss: 4.561 | Validation PPL: 95.714\n",
            "Epoch: 04 | Time: 0m 23s\n",
            "\tTrain Loss: 4.003 | Train PPL: 54.778\n",
            "\tValidation Loss: 4.508 | Validation PPL: 90.716\n",
            "Epoch: 05 | Time: 0m 23s\n",
            "\tTrain Loss: 3.837 | Train PPL: 46.403\n",
            "\tValidation Loss: 4.356 | Validation PPL: 77.947\n",
            "Epoch: 06 | Time: 0m 23s\n",
            "\tTrain Loss: 3.669 | Train PPL: 39.196\n",
            "\tValidation Loss: 4.151 | Validation PPL: 63.489\n",
            "Epoch: 07 | Time: 0m 23s\n",
            "\tTrain Loss: 3.511 | Train PPL: 33.468\n",
            "\tValidation Loss: 4.083 | Validation PPL: 59.339\n",
            "Epoch: 08 | Time: 0m 23s\n",
            "\tTrain Loss: 3.379 | Train PPL: 29.341\n",
            "\tValidation Loss: 3.993 | Validation PPL: 54.207\n",
            "Epoch: 09 | Time: 0m 23s\n",
            "\tTrain Loss: 3.223 | Train PPL: 25.108\n",
            "\tValidation Loss: 3.927 | Validation PPL: 50.746\n",
            "Epoch: 10 | Time: 0m 23s\n",
            "\tTrain Loss: 3.128 | Train PPL: 22.832\n",
            "\tValidation Loss: 3.879 | Validation PPL: 48.355\n",
            "Epoch: 11 | Time: 0m 23s\n",
            "\tTrain Loss: 3.021 | Train PPL: 20.509\n",
            "\tValidation Loss: 3.795 | Validation PPL: 44.479\n",
            "Epoch: 12 | Time: 0m 23s\n",
            "\tTrain Loss: 2.926 | Train PPL: 18.645\n",
            "\tValidation Loss: 3.810 | Validation PPL: 45.128\n",
            "Epoch: 13 | Time: 0m 23s\n",
            "\tTrain Loss: 2.816 | Train PPL: 16.707\n",
            "\tValidation Loss: 3.776 | Validation PPL: 43.650\n",
            "Epoch: 14 | Time: 0m 23s\n",
            "\tTrain Loss: 2.759 | Train PPL: 15.780\n",
            "\tValidation Loss: 3.704 | Validation PPL: 40.617\n",
            "Epoch: 15 | Time: 0m 23s\n",
            "\tTrain Loss: 2.656 | Train PPL: 14.234\n",
            "\tValidation Loss: 3.699 | Validation PPL: 40.422\n",
            "Epoch: 16 | Time: 0m 23s\n",
            "\tTrain Loss: 2.586 | Train PPL: 13.282\n",
            "\tValidation Loss: 3.656 | Validation PPL: 38.722\n",
            "Epoch: 17 | Time: 0m 23s\n",
            "\tTrain Loss: 2.515 | Train PPL: 12.363\n",
            "\tValidation Loss: 3.657 | Validation PPL: 38.741\n",
            "Epoch: 18 | Time: 0m 23s\n",
            "\tTrain Loss: 2.419 | Train PPL: 11.238\n",
            "\tValidation Loss: 3.632 | Validation PPL: 37.804\n",
            "Epoch: 19 | Time: 0m 23s\n",
            "\tTrain Loss: 2.360 | Train PPL: 10.595\n",
            "\tValidation Loss: 3.691 | Validation PPL: 40.093\n",
            "Epoch: 20 | Time: 0m 23s\n",
            "\tTrain Loss: 2.276 | Train PPL: 9.741\n",
            "\tValidation Loss: 3.695 | Validation PPL: 40.226\n"
          ]
        }
      ]
    }
  ]
}