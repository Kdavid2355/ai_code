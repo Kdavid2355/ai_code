{
  "nbformat": 4,
  "nbformat_minor": 0,
  "metadata": {
    "colab": {
      "provenance": [],
      "gpuType": "T4"
    },
    "kernelspec": {
      "name": "python3",
      "display_name": "Python 3"
    },
    "language_info": {
      "name": "python"
    },
    "accelerator": "GPU"
  },
  "cells": [
    {
      "cell_type": "code",
      "execution_count": 1,
      "metadata": {
        "id": "pWrclIwp4fC8"
      },
      "outputs": [],
      "source": [
        "import torch\n",
        "import torch.nn as nn\n",
        "import torch.optim as optim\n",
        "import torch.nn.functional as F\n",
        "\n",
        "from torchvision import datasets, transforms"
      ]
    },
    {
      "cell_type": "code",
      "source": [
        "device = torch.device(\"cuda:0\" if torch.cuda.is_available() else \"cpu\")"
      ],
      "metadata": {
        "id": "WDZsj2ERNA2c"
      },
      "execution_count": 2,
      "outputs": []
    },
    {
      "cell_type": "code",
      "source": [
        "#MNIST 데이터겟 불러오기\n",
        "train_dataset = datasets.MNIST(root=\"./mnist_data\", train=True, transform=transforms.ToTensor(), download=True)\n",
        "test_dataset = datasets.MNIST(root=\"./mnist_data\", train=False, transform=transforms.ToTensor())\n",
        "\n",
        "batch_size = 64\n",
        "\n",
        "train_loader = torch.utils.data.DataLoader(dataset=train_dataset, batch_size=batch_size, shuffle=True)\n",
        "test_loader = torch.utils.data.DataLoader(dataset=test_dataset, batch_size=batch_size, shuffle=False)"
      ],
      "metadata": {
        "colab": {
          "base_uri": "https://localhost:8080/"
        },
        "id": "w1_m7iHaNLPV",
        "outputId": "e7efaf59-8e8b-4844-9941-5a688e826e70"
      },
      "execution_count": 3,
      "outputs": [
        {
          "output_type": "stream",
          "name": "stdout",
          "text": [
            "Downloading http://yann.lecun.com/exdb/mnist/train-images-idx3-ubyte.gz\n",
            "Downloading http://yann.lecun.com/exdb/mnist/train-images-idx3-ubyte.gz to ./mnist_data/MNIST/raw/train-images-idx3-ubyte.gz\n"
          ]
        },
        {
          "output_type": "stream",
          "name": "stderr",
          "text": [
            "100%|██████████| 9912422/9912422 [00:00<00:00, 94315768.66it/s]\n"
          ]
        },
        {
          "output_type": "stream",
          "name": "stdout",
          "text": [
            "Extracting ./mnist_data/MNIST/raw/train-images-idx3-ubyte.gz to ./mnist_data/MNIST/raw\n",
            "\n",
            "Downloading http://yann.lecun.com/exdb/mnist/train-labels-idx1-ubyte.gz\n",
            "Downloading http://yann.lecun.com/exdb/mnist/train-labels-idx1-ubyte.gz to ./mnist_data/MNIST/raw/train-labels-idx1-ubyte.gz\n"
          ]
        },
        {
          "output_type": "stream",
          "name": "stderr",
          "text": [
            "100%|██████████| 28881/28881 [00:00<00:00, 79121942.41it/s]"
          ]
        },
        {
          "output_type": "stream",
          "name": "stdout",
          "text": [
            "Extracting ./mnist_data/MNIST/raw/train-labels-idx1-ubyte.gz to ./mnist_data/MNIST/raw\n",
            "\n",
            "Downloading http://yann.lecun.com/exdb/mnist/t10k-images-idx3-ubyte.gz\n",
            "Downloading http://yann.lecun.com/exdb/mnist/t10k-images-idx3-ubyte.gz to ./mnist_data/MNIST/raw/t10k-images-idx3-ubyte.gz\n"
          ]
        },
        {
          "output_type": "stream",
          "name": "stderr",
          "text": [
            "\n",
            "100%|██████████| 1648877/1648877 [00:00<00:00, 20064207.04it/s]\n"
          ]
        },
        {
          "output_type": "stream",
          "name": "stdout",
          "text": [
            "Extracting ./mnist_data/MNIST/raw/t10k-images-idx3-ubyte.gz to ./mnist_data/MNIST/raw\n",
            "\n",
            "Downloading http://yann.lecun.com/exdb/mnist/t10k-labels-idx1-ubyte.gz\n",
            "Downloading http://yann.lecun.com/exdb/mnist/t10k-labels-idx1-ubyte.gz to ./mnist_data/MNIST/raw/t10k-labels-idx1-ubyte.gz\n"
          ]
        },
        {
          "output_type": "stream",
          "name": "stderr",
          "text": [
            "100%|██████████| 4542/4542 [00:00<00:00, 23548243.22it/s]\n"
          ]
        },
        {
          "output_type": "stream",
          "name": "stdout",
          "text": [
            "Extracting ./mnist_data/MNIST/raw/t10k-labels-idx1-ubyte.gz to ./mnist_data/MNIST/raw\n",
            "\n"
          ]
        }
      ]
    },
    {
      "cell_type": "code",
      "source": [
        "train_dataset"
      ],
      "metadata": {
        "colab": {
          "base_uri": "https://localhost:8080/"
        },
        "id": "aYkUrn4qN5JQ",
        "outputId": "69ea14dc-8e58-421a-c18b-ac8159409dfa"
      },
      "execution_count": 4,
      "outputs": [
        {
          "output_type": "execute_result",
          "data": {
            "text/plain": [
              "Dataset MNIST\n",
              "    Number of datapoints: 60000\n",
              "    Root location: ./mnist_data\n",
              "    Split: Train\n",
              "    StandardTransform\n",
              "Transform: ToTensor()"
            ]
          },
          "metadata": {},
          "execution_count": 4
        }
      ]
    },
    {
      "cell_type": "code",
      "source": [
        "test_dataset"
      ],
      "metadata": {
        "colab": {
          "base_uri": "https://localhost:8080/"
        },
        "id": "DkmysZzvOAur",
        "outputId": "586a5e4b-c637-4582-db7e-fc2b915714da"
      },
      "execution_count": 5,
      "outputs": [
        {
          "output_type": "execute_result",
          "data": {
            "text/plain": [
              "Dataset MNIST\n",
              "    Number of datapoints: 10000\n",
              "    Root location: ./mnist_data\n",
              "    Split: Test\n",
              "    StandardTransform\n",
              "Transform: ToTensor()"
            ]
          },
          "metadata": {},
          "execution_count": 5
        }
      ]
    },
    {
      "cell_type": "code",
      "source": [
        "class Net(nn.Module):\n",
        "  def __init__(self):\n",
        "    super(Net, self).__init__()\n",
        "    self.l1 = nn.Linear(784, 480)\n",
        "    self.l2 = nn.Linear(480, 200)\n",
        "    self.l3 = nn.Linear(200, 80)\n",
        "    self.l4 = nn.Linear(80, 10)\n",
        "\n",
        "  def forward(self, x):\n",
        "    x = x.view(-1, 784)\n",
        "    x = F.relu(self.l1(x))\n",
        "    x = F.relu(self.l2(x))\n",
        "    x = F.relu(self.l3(x))\n",
        "    return self.l4(x)"
      ],
      "metadata": {
        "id": "bedHeh1hOCPO"
      },
      "execution_count": 6,
      "outputs": []
    },
    {
      "cell_type": "code",
      "source": [
        "model = Net().to(device)\n",
        "print(model)"
      ],
      "metadata": {
        "colab": {
          "base_uri": "https://localhost:8080/"
        },
        "id": "8kX7uFnIPSPm",
        "outputId": "eb41daf2-2fde-4cf3-b294-f44c5fdb3491"
      },
      "execution_count": 7,
      "outputs": [
        {
          "output_type": "stream",
          "name": "stdout",
          "text": [
            "Net(\n",
            "  (l1): Linear(in_features=784, out_features=480, bias=True)\n",
            "  (l2): Linear(in_features=480, out_features=200, bias=True)\n",
            "  (l3): Linear(in_features=200, out_features=80, bias=True)\n",
            "  (l4): Linear(in_features=80, out_features=10, bias=True)\n",
            ")\n"
          ]
        }
      ]
    },
    {
      "cell_type": "code",
      "source": [
        "criterion = nn.CrossEntropyLoss()\n",
        "optimizer = optim.SGD(model.parameters(), lr=0.01, momentum=0.2)\n",
        "\n",
        "def train(epoch):\n",
        "  model.train()\n",
        "  for batch_idx, (data, target) in enumerate(train_loader):\n",
        "    data, target = data.to(device), target.to(device)\n",
        "    optimizer.zero_grad()\n",
        "    output = model(data)\n",
        "    loss = criterion(output, target)\n",
        "    loss.backward()\n",
        "    optimizer.step() # 모델 가중치 업데이트\n",
        "    if batch_idx % 100 == 0:\n",
        "        print('Train Epoch: {} [{}/{} ({:.0f}%)]\\tLoss: {:.8f}'.format(\n",
        "            epoch, batch_idx * len(data), len(train_loader.dataset),\n",
        "            100 * batch_idx / len(train_loader), loss.data))\n"
      ],
      "metadata": {
        "id": "P9d9eaLPQANL"
      },
      "execution_count": 8,
      "outputs": []
    },
    {
      "cell_type": "code",
      "source": [
        "def test():\n",
        "    model.eval()\n",
        "    loss = 0\n",
        "    correct = 0\n",
        "    for data, target in test_loader:\n",
        "        data, target = data.to(device), target.to(device)\n",
        "        output = model(data)\n",
        "        loss += criterion(output, target).data.item()\n",
        "        pred = output.data.max(1, keepdim=True)[1]\n",
        "        correct += pred.eq(target.data.view_as(pred)).cpu().sum()\n",
        "    loss /= len(test_loader.dataset)\n",
        "    print('\\nTest set: Average loss: {:.4f}, Accuracy: {}/{} ({:.0f}%)\\n'.format(\n",
        "        loss, correct, len(test_loader.dataset),\n",
        "        100 * correct / len(test_loader.dataset)))\n",
        ""
      ],
      "metadata": {
        "id": "ZJRGZEdCSpqE"
      },
      "execution_count": 9,
      "outputs": []
    },
    {
      "cell_type": "code",
      "source": [
        "for epoch in range(1, 11):\n",
        "  train(epoch)\n",
        "  test()"
      ],
      "metadata": {
        "colab": {
          "base_uri": "https://localhost:8080/"
        },
        "id": "nI3TeD7XSXMV",
        "outputId": "706ea815-38d1-4cca-d02f-2c97b2013d69"
      },
      "execution_count": null,
      "outputs": [
        {
          "output_type": "stream",
          "name": "stdout",
          "text": [
            "Train Epoch: 1 [0/60000 (0%)]\tLoss: 2.30293536\n",
            "Train Epoch: 1 [6400/60000 (11%)]\tLoss: 2.30696011\n",
            "Train Epoch: 1 [12800/60000 (21%)]\tLoss: 2.28155375\n",
            "Train Epoch: 1 [19200/60000 (32%)]\tLoss: 2.27512312\n",
            "Train Epoch: 1 [25600/60000 (43%)]\tLoss: 2.24026322\n",
            "Train Epoch: 1 [32000/60000 (53%)]\tLoss: 2.20381975\n",
            "Train Epoch: 1 [38400/60000 (64%)]\tLoss: 2.12108040\n",
            "Train Epoch: 1 [44800/60000 (75%)]\tLoss: 1.96337438\n",
            "Train Epoch: 1 [51200/60000 (85%)]\tLoss: 1.73143661\n",
            "Train Epoch: 1 [57600/60000 (96%)]\tLoss: 1.44266129\n",
            "\n",
            "Test set: Average loss: 0.0197, Accuracy: 7084/10000 (71%)\n",
            "\n",
            "Train Epoch: 2 [0/60000 (0%)]\tLoss: 1.24758494\n",
            "Train Epoch: 2 [6400/60000 (11%)]\tLoss: 1.06552660\n",
            "Train Epoch: 2 [12800/60000 (21%)]\tLoss: 0.76107371\n",
            "Train Epoch: 2 [19200/60000 (32%)]\tLoss: 0.61146295\n",
            "Train Epoch: 2 [25600/60000 (43%)]\tLoss: 0.56118894\n",
            "Train Epoch: 2 [32000/60000 (53%)]\tLoss: 0.41890404\n",
            "Train Epoch: 2 [38400/60000 (64%)]\tLoss: 0.44819224\n",
            "Train Epoch: 2 [44800/60000 (75%)]\tLoss: 0.54299122\n",
            "Train Epoch: 2 [51200/60000 (85%)]\tLoss: 0.58096856\n",
            "Train Epoch: 2 [57600/60000 (96%)]\tLoss: 0.36478782\n",
            "\n",
            "Test set: Average loss: 0.0066, Accuracy: 8785/10000 (88%)\n",
            "\n",
            "Train Epoch: 3 [0/60000 (0%)]\tLoss: 0.44236246\n",
            "Train Epoch: 3 [6400/60000 (11%)]\tLoss: 0.58405846\n",
            "Train Epoch: 3 [12800/60000 (21%)]\tLoss: 0.34509242\n",
            "Train Epoch: 3 [19200/60000 (32%)]\tLoss: 0.14430198\n",
            "Train Epoch: 3 [25600/60000 (43%)]\tLoss: 0.33467421\n",
            "Train Epoch: 3 [32000/60000 (53%)]\tLoss: 0.44304073\n",
            "Train Epoch: 3 [38400/60000 (64%)]\tLoss: 0.22355688\n",
            "Train Epoch: 3 [44800/60000 (75%)]\tLoss: 0.40863729\n",
            "Train Epoch: 3 [51200/60000 (85%)]\tLoss: 0.31531319\n",
            "Train Epoch: 3 [57600/60000 (96%)]\tLoss: 0.37004492\n",
            "\n",
            "Test set: Average loss: 0.0054, Accuracy: 8978/10000 (90%)\n",
            "\n",
            "Train Epoch: 4 [0/60000 (0%)]\tLoss: 0.39098769\n",
            "Train Epoch: 4 [6400/60000 (11%)]\tLoss: 0.33840567\n",
            "Train Epoch: 4 [12800/60000 (21%)]\tLoss: 0.28584829\n",
            "Train Epoch: 4 [19200/60000 (32%)]\tLoss: 0.50441915\n",
            "Train Epoch: 4 [25600/60000 (43%)]\tLoss: 0.35781059\n",
            "Train Epoch: 4 [32000/60000 (53%)]\tLoss: 0.41802949\n",
            "Train Epoch: 4 [38400/60000 (64%)]\tLoss: 0.49616480\n",
            "Train Epoch: 4 [44800/60000 (75%)]\tLoss: 0.22191489\n",
            "Train Epoch: 4 [51200/60000 (85%)]\tLoss: 0.30078420\n",
            "Train Epoch: 4 [57600/60000 (96%)]\tLoss: 0.28114986\n",
            "\n",
            "Test set: Average loss: 0.0046, Accuracy: 9144/10000 (91%)\n",
            "\n",
            "Train Epoch: 5 [0/60000 (0%)]\tLoss: 0.36638761\n",
            "Train Epoch: 5 [6400/60000 (11%)]\tLoss: 0.30140984\n",
            "Train Epoch: 5 [12800/60000 (21%)]\tLoss: 0.35821068\n",
            "Train Epoch: 5 [19200/60000 (32%)]\tLoss: 0.24267861\n",
            "Train Epoch: 5 [25600/60000 (43%)]\tLoss: 0.19179283\n",
            "Train Epoch: 5 [32000/60000 (53%)]\tLoss: 0.28144246\n",
            "Train Epoch: 5 [38400/60000 (64%)]\tLoss: 0.23992702\n",
            "Train Epoch: 5 [44800/60000 (75%)]\tLoss: 0.42384005\n",
            "Train Epoch: 5 [51200/60000 (85%)]\tLoss: 0.25036010\n",
            "Train Epoch: 5 [57600/60000 (96%)]\tLoss: 0.31542069\n",
            "\n",
            "Test set: Average loss: 0.0041, Accuracy: 9237/10000 (92%)\n",
            "\n",
            "Train Epoch: 6 [0/60000 (0%)]\tLoss: 0.20265898\n",
            "Train Epoch: 6 [6400/60000 (11%)]\tLoss: 0.25041673\n",
            "Train Epoch: 6 [12800/60000 (21%)]\tLoss: 0.50807512\n",
            "Train Epoch: 6 [19200/60000 (32%)]\tLoss: 0.33314475\n",
            "Train Epoch: 6 [25600/60000 (43%)]\tLoss: 0.39172065\n",
            "Train Epoch: 6 [32000/60000 (53%)]\tLoss: 0.21567611\n",
            "Train Epoch: 6 [38400/60000 (64%)]\tLoss: 0.19742563\n",
            "Train Epoch: 6 [44800/60000 (75%)]\tLoss: 0.26325825\n",
            "Train Epoch: 6 [51200/60000 (85%)]\tLoss: 0.30751291\n",
            "Train Epoch: 6 [57600/60000 (96%)]\tLoss: 0.24066675\n",
            "\n",
            "Test set: Average loss: 0.0036, Accuracy: 9328/10000 (93%)\n",
            "\n",
            "Train Epoch: 7 [0/60000 (0%)]\tLoss: 0.20147803\n",
            "Train Epoch: 7 [6400/60000 (11%)]\tLoss: 0.21414179\n",
            "Train Epoch: 7 [12800/60000 (21%)]\tLoss: 0.31880262\n",
            "Train Epoch: 7 [19200/60000 (32%)]\tLoss: 0.32645682\n",
            "Train Epoch: 7 [25600/60000 (43%)]\tLoss: 0.08867341\n",
            "Train Epoch: 7 [32000/60000 (53%)]\tLoss: 0.15064666\n",
            "Train Epoch: 7 [38400/60000 (64%)]\tLoss: 0.15104505\n",
            "Train Epoch: 7 [44800/60000 (75%)]\tLoss: 0.27253741\n",
            "Train Epoch: 7 [51200/60000 (85%)]\tLoss: 0.22717084\n",
            "Train Epoch: 7 [57600/60000 (96%)]\tLoss: 0.13192953\n",
            "\n",
            "Test set: Average loss: 0.0031, Accuracy: 9422/10000 (94%)\n",
            "\n",
            "Train Epoch: 8 [0/60000 (0%)]\tLoss: 0.30407375\n",
            "Train Epoch: 8 [6400/60000 (11%)]\tLoss: 0.12520668\n",
            "Train Epoch: 8 [12800/60000 (21%)]\tLoss: 0.06427212\n",
            "Train Epoch: 8 [19200/60000 (32%)]\tLoss: 0.12210064\n",
            "Train Epoch: 8 [25600/60000 (43%)]\tLoss: 0.17796758\n",
            "Train Epoch: 8 [32000/60000 (53%)]\tLoss: 0.21267655\n"
          ]
        }
      ]
    },
    {
      "cell_type": "code",
      "source": [
        "import numpy as np\n",
        "import matplotlib.pyplot as plt\n",
        "\n",
        "image_data = test_dataset[0][0].to(device)\n",
        "image_label = test_dataset[0][1]\n",
        "print('숫자 이미지 X의 크기:', image_data.size())\n",
        "print('숫자 이미지 X의 레이블:', image_label)\n",
        "print(model(image_data))\n",
        "plt.imshow(image_data.cpu().numpy()[0], cmap='gray')"
      ],
      "metadata": {
        "id": "O_fVNShBTE6Z"
      },
      "execution_count": null,
      "outputs": []
    }
  ]
}