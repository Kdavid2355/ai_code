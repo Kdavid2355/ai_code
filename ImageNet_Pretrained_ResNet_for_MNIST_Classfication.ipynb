{
  "nbformat": 4,
  "nbformat_minor": 0,
  "metadata": {
    "colab": {
      "provenance": [],
      "gpuType": "T4"
    },
    "kernelspec": {
      "name": "python3",
      "display_name": "Python 3"
    },
    "language_info": {
      "name": "python"
    },
    "accelerator": "GPU"
  },
  "cells": [
    {
      "cell_type": "code",
      "execution_count": 1,
      "metadata": {
        "id": "RKOMTrD-aTbn"
      },
      "outputs": [],
      "source": [
        "import torch\n",
        "import torch.nn as nn\n",
        "import torch.nn.functional as F\n",
        "import torch.optim as optim\n",
        "\n",
        "import torchvision\n",
        "import torchvision.transforms as transforms\n",
        "\n",
        "from matplotlib import pyplot as plt\n",
        "import seaborn as sn\n",
        "import pandas as pd\n",
        "import numpy as np\n",
        "import os\n",
        "\n",
        "device = 'cuda'"
      ]
    },
    {
      "cell_type": "code",
      "source": [
        "# 사전 학습된 모델의 경우 입력 데이터의 크기가 224 x 224이므로, MNIST 데이터셋의 크기를 조절할 필요가 있음\n",
        "transfer_transform_train = transforms.Compose([\n",
        "    transforms.Resize((224, 224)),\n",
        "    transforms.ToTensor(),\n",
        "    transforms.Lambda(lambda x: x.repeat(3, 1, 1)),\n",
        "])\n",
        "\n",
        "transfer_transform_test = transforms.Compose([\n",
        "    transforms.Resize((224, 224)),\n",
        "    transforms.ToTensor(),\n",
        "    transforms.Lambda(lambda x: x.repeat(3, 1, 1)),\n",
        "])\n",
        "\n",
        "transfer_train_dataset = torchvision.datasets.MNIST(root='./data', train=True, download=True, transform=transfer_transform_train)\n",
        "transfer_test_dataset = torchvision.datasets.MNIST(root='./data', train=False, download=True, transform=transfer_transform_test)\n",
        "\n",
        "transfer_train_loader = torch.utils.data.DataLoader(transfer_train_dataset, batch_size=128, shuffle=True, num_workers=4)\n",
        "transfer_test_loader = torch.utils.data.DataLoader(transfer_test_dataset, batch_size=100, shuffle=False, num_workers=4)"
      ],
      "metadata": {
        "colab": {
          "base_uri": "https://localhost:8080/"
        },
        "id": "5yu8-GB5afCU",
        "outputId": "f38b5170-a3a7-4491-d926-1240523dadbd"
      },
      "execution_count": 3,
      "outputs": [
        {
          "output_type": "stream",
          "name": "stdout",
          "text": [
            "Downloading http://yann.lecun.com/exdb/mnist/train-images-idx3-ubyte.gz\n",
            "Downloading http://yann.lecun.com/exdb/mnist/train-images-idx3-ubyte.gz to ./data/MNIST/raw/train-images-idx3-ubyte.gz\n"
          ]
        },
        {
          "output_type": "stream",
          "name": "stderr",
          "text": [
            "100%|██████████| 9912422/9912422 [00:00<00:00, 209234395.10it/s]"
          ]
        },
        {
          "output_type": "stream",
          "name": "stdout",
          "text": [
            "Extracting ./data/MNIST/raw/train-images-idx3-ubyte.gz to ./data/MNIST/raw\n"
          ]
        },
        {
          "output_type": "stream",
          "name": "stderr",
          "text": [
            "\n"
          ]
        },
        {
          "output_type": "stream",
          "name": "stdout",
          "text": [
            "\n",
            "Downloading http://yann.lecun.com/exdb/mnist/train-labels-idx1-ubyte.gz\n",
            "Downloading http://yann.lecun.com/exdb/mnist/train-labels-idx1-ubyte.gz to ./data/MNIST/raw/train-labels-idx1-ubyte.gz\n"
          ]
        },
        {
          "output_type": "stream",
          "name": "stderr",
          "text": [
            "100%|██████████| 28881/28881 [00:00<00:00, 10107275.25it/s]"
          ]
        },
        {
          "output_type": "stream",
          "name": "stdout",
          "text": [
            "Extracting ./data/MNIST/raw/train-labels-idx1-ubyte.gz to ./data/MNIST/raw\n",
            "\n",
            "Downloading http://yann.lecun.com/exdb/mnist/t10k-images-idx3-ubyte.gz\n"
          ]
        },
        {
          "output_type": "stream",
          "name": "stderr",
          "text": [
            "\n"
          ]
        },
        {
          "output_type": "stream",
          "name": "stdout",
          "text": [
            "Downloading http://yann.lecun.com/exdb/mnist/t10k-images-idx3-ubyte.gz to ./data/MNIST/raw/t10k-images-idx3-ubyte.gz\n"
          ]
        },
        {
          "output_type": "stream",
          "name": "stderr",
          "text": [
            "100%|██████████| 1648877/1648877 [00:00<00:00, 74893510.03it/s]\n"
          ]
        },
        {
          "output_type": "stream",
          "name": "stdout",
          "text": [
            "Extracting ./data/MNIST/raw/t10k-images-idx3-ubyte.gz to ./data/MNIST/raw\n",
            "\n",
            "Downloading http://yann.lecun.com/exdb/mnist/t10k-labels-idx1-ubyte.gz\n",
            "Downloading http://yann.lecun.com/exdb/mnist/t10k-labels-idx1-ubyte.gz to ./data/MNIST/raw/t10k-labels-idx1-ubyte.gz\n"
          ]
        },
        {
          "output_type": "stream",
          "name": "stderr",
          "text": [
            "100%|██████████| 4542/4542 [00:00<00:00, 6698498.16it/s]"
          ]
        },
        {
          "output_type": "stream",
          "name": "stdout",
          "text": [
            "Extracting ./data/MNIST/raw/t10k-labels-idx1-ubyte.gz to ./data/MNIST/raw\n",
            "\n"
          ]
        },
        {
          "output_type": "stream",
          "name": "stderr",
          "text": [
            "\n",
            "/usr/local/lib/python3.10/dist-packages/torch/utils/data/dataloader.py:560: UserWarning: This DataLoader will create 4 worker processes in total. Our suggested max number of worker in current system is 2, which is smaller than what this DataLoader is going to create. Please be aware that excessive worker creation might get DataLoader running slow or even freeze, lower the worker number to avoid potential slowness/freeze if necessary.\n",
            "  warnings.warn(_create_warning_msg(\n"
          ]
        }
      ]
    },
    {
      "cell_type": "markdown",
      "source": [
        "### 학습(Training) 및 평가(Testing) 함수 정의"
      ],
      "metadata": {
        "id": "J1zrDz85a2T5"
      }
    },
    {
      "cell_type": "code",
      "source": [
        "\n",
        "def train(net, epoch, optimizer, criterion, train_loader):\n",
        "    print('[ Train epoch: %d ]' % epoch)\n",
        "    net.train()\n",
        "    train_loss = 0\n",
        "    correct = 0\n",
        "    total = 0\n",
        "    for batch_idx, (inputs, targets) in enumerate(train_loader):\n",
        "        inputs, targets = inputs.to(device), targets.to(device)\n",
        "        optimizer.zero_grad()\n",
        "\n",
        "        benign_outputs = net(inputs)\n",
        "        loss = criterion(benign_outputs, targets)\n",
        "        loss.backward()\n",
        "\n",
        "        optimizer.step()\n",
        "        train_loss += loss.item()\n",
        "        _, predicted = benign_outputs.max(1)\n",
        "\n",
        "        total += targets.size(0)\n",
        "        correct += predicted.eq(targets).sum().item()\n",
        "\n",
        "    print('Train accuarcy:', 100. * correct / total)\n",
        "    print('Train average loss:', train_loss / total)\n",
        "    return (100. * correct / total, train_loss / total)\n",
        "\n",
        "\n",
        "def evaluate(net, epoch, file_name, data_loader, info):\n",
        "    print('[ Evaluate epoch: %d ]' % epoch)\n",
        "    print(\"Dataset:\", info)\n",
        "\n",
        "    net.eval() # Dropout을 적용하는 경우 필수임\n",
        "    test_loss = 0\n",
        "    correct = 0\n",
        "    total = 0\n",
        "\n",
        "    for batch_idx, (inputs, targets) in enumerate(data_loader):\n",
        "        inputs, targets = inputs.to(device), targets.to(device)\n",
        "        total += targets.size(0)\n",
        "\n",
        "        outputs = net(inputs)\n",
        "        test_loss += criterion(outputs, targets).item()\n",
        "\n",
        "        _, predicted = outputs.max(1)\n",
        "        correct += predicted.eq(targets).sum().item()\n",
        "\n",
        "    print('Accuarcy:', 100. * correct / total)\n",
        "    print('Average loss:', test_loss / total)\n",
        "    return (100. * correct / total, test_loss / total)"
      ],
      "metadata": {
        "id": "8ObaIuBianAZ"
      },
      "execution_count": 4,
      "outputs": []
    },
    {
      "cell_type": "markdown",
      "source": [
        "### Confusion Matrix 함수 정의\n"
      ],
      "metadata": {
        "id": "hgzZvDZza8aV"
      }
    },
    {
      "cell_type": "code",
      "source": [
        "def get_confusion_matrix(net, num_classes, data_loader):\n",
        "    confusion_matrix = torch.zeros(num_classes, num_classes)\n",
        "\n",
        "    net.eval() # Dropout을 적용하는 경우 필수임\n",
        "\n",
        "    for batch_idx, (inputs, targets) in enumerate(data_loader):\n",
        "        inputs, targets = inputs.to(device), targets.to(device)\n",
        "\n",
        "        outputs = net(inputs)\n",
        "        _, predicted = outputs.max(1)\n",
        "\n",
        "        for t, p in zip(targets.view(-1), predicted.view(-1)):\n",
        "            confusion_matrix[t.long(), p.long()] += 1\n",
        "\n",
        "    return confusion_matrix\n",
        ""
      ],
      "metadata": {
        "id": "i4XXD8eHa6gb"
      },
      "execution_count": 5,
      "outputs": []
    },
    {
      "cell_type": "markdown",
      "source": [
        "### ImageNet Pretrained ResNet을 활용한 Transfer Learning"
      ],
      "metadata": {
        "id": "HWjBJO-YbFm3"
      }
    },
    {
      "cell_type": "code",
      "source": [
        "net = torchvision.models.resnet18(pretrained=True)\n",
        "\n",
        "# 마지막 레이어의 차원을 10차원으로 조절\n",
        "num_features = net.fc.in_features\n",
        "net.fc = nn.Linear(num_features, 10)\n",
        "net = net.to(device)\n",
        "\n",
        "epoch = 10\n",
        "learning_rate = 0.01\n",
        "file_name = \"Transfer_Learning_MNIST.pt\"\n",
        "\n",
        "criterion = nn.CrossEntropyLoss()\n",
        "optimizer = optim.SGD(net.parameters(), lr=learning_rate, momentum=0.9, weight_decay=0.0002)\n",
        "\n",
        "train_result = []\n",
        "test_result = []\n",
        "\n",
        "train_result.append(evaluate(net, 0, file_name, transfer_train_loader, \"Train\"))\n",
        "test_result.append(evaluate(net, 0, file_name, transfer_test_loader, \"Test\"))\n",
        "\n",
        "for i in range(epoch):\n",
        "    train(net, i, optimizer, criterion, transfer_train_loader)\n",
        "    train_acc, train_loss = evaluate(net, i + 1, file_name, transfer_train_loader, \"Train\")\n",
        "    test_acc, test_loss = evaluate(net, i + 1, file_name, transfer_test_loader, \"Test\")\n",
        "\n",
        "    state = {\n",
        "        'net': net.state_dict()\n",
        "    }\n",
        "    if not os.path.isdir('checkpoint'):\n",
        "        os.mkdir('checkpoint')\n",
        "    torch.save(state, './checkpoint/' + file_name)\n",
        "    print('Model Saved!')\n",
        "\n",
        "    train_result.append((train_acc, train_loss))\n",
        "    test_result.append((test_acc, test_loss))"
      ],
      "metadata": {
        "colab": {
          "base_uri": "https://localhost:8080/"
        },
        "id": "dC5gnwHma_lq",
        "outputId": "6b949281-0f8a-43ad-a52e-8ac9a3cab548"
      },
      "execution_count": 6,
      "outputs": [
        {
          "output_type": "stream",
          "name": "stderr",
          "text": [
            "/usr/local/lib/python3.10/dist-packages/torchvision/models/_utils.py:208: UserWarning: The parameter 'pretrained' is deprecated since 0.13 and may be removed in the future, please use 'weights' instead.\n",
            "  warnings.warn(\n",
            "/usr/local/lib/python3.10/dist-packages/torchvision/models/_utils.py:223: UserWarning: Arguments other than a weight enum or `None` for 'weights' are deprecated since 0.13 and may be removed in the future. The current behavior is equivalent to passing `weights=ResNet18_Weights.IMAGENET1K_V1`. You can also use `weights=ResNet18_Weights.DEFAULT` to get the most up-to-date weights.\n",
            "  warnings.warn(msg)\n",
            "Downloading: \"https://download.pytorch.org/models/resnet18-f37072fd.pth\" to /root/.cache/torch/hub/checkpoints/resnet18-f37072fd.pth\n",
            "100%|██████████| 44.7M/44.7M [00:00<00:00, 78.4MB/s]\n"
          ]
        },
        {
          "output_type": "stream",
          "name": "stdout",
          "text": [
            "[ Evaluate epoch: 0 ]\n",
            "Dataset: Train\n",
            "Accuarcy: 8.748333333333333\n",
            "Average loss: 0.01847544688383738\n",
            "[ Evaluate epoch: 0 ]\n",
            "Dataset: Test\n",
            "Accuarcy: 8.84\n",
            "Average loss: 0.023640700459480284\n",
            "[ Train epoch: 0 ]\n",
            "Train accuarcy: 97.98833333333333\n",
            "Train average loss: 0.0005438040822550344\n",
            "[ Evaluate epoch: 1 ]\n",
            "Dataset: Train\n",
            "Accuarcy: 99.63666666666667\n",
            "Average loss: 0.00010393951918425349\n",
            "[ Evaluate epoch: 1 ]\n",
            "Dataset: Test\n",
            "Accuarcy: 99.45\n",
            "Average loss: 0.00016903695927467197\n",
            "Model Saved!\n",
            "[ Train epoch: 1 ]\n",
            "Train accuarcy: 99.64833333333333\n",
            "Train average loss: 9.69557473086752e-05\n",
            "[ Evaluate epoch: 2 ]\n",
            "Dataset: Train\n",
            "Accuarcy: 99.84166666666667\n",
            "Average loss: 5.1438655536427784e-05\n",
            "[ Evaluate epoch: 2 ]\n",
            "Dataset: Test\n",
            "Accuarcy: 99.45\n",
            "Average loss: 0.00015524532528943383\n",
            "Model Saved!\n",
            "[ Train epoch: 2 ]\n",
            "Train accuarcy: 99.855\n",
            "Train average loss: 4.5395932698253695e-05\n",
            "[ Evaluate epoch: 3 ]\n",
            "Dataset: Train\n",
            "Accuarcy: 99.91333333333333\n",
            "Average loss: 3.008005187342254e-05\n",
            "[ Evaluate epoch: 3 ]\n",
            "Dataset: Test\n",
            "Accuarcy: 99.48\n",
            "Average loss: 0.00015548060676337627\n",
            "Model Saved!\n",
            "[ Train epoch: 3 ]\n",
            "Train accuarcy: 99.93666666666667\n",
            "Train average loss: 2.613312794370965e-05\n",
            "[ Evaluate epoch: 4 ]\n",
            "Dataset: Train\n",
            "Accuarcy: 99.97333333333333\n",
            "Average loss: 1.334932048691068e-05\n",
            "[ Evaluate epoch: 4 ]\n",
            "Dataset: Test\n",
            "Accuarcy: 99.55\n",
            "Average loss: 0.00011651592757989419\n",
            "Model Saved!\n",
            "[ Train epoch: 4 ]\n",
            "Train accuarcy: 99.97166666666666\n",
            "Train average loss: 1.3684897624019262e-05\n",
            "[ Evaluate epoch: 5 ]\n",
            "Dataset: Train\n",
            "Accuarcy: 99.99833333333333\n",
            "Average loss: 4.615592079062481e-06\n",
            "[ Evaluate epoch: 5 ]\n",
            "Dataset: Test\n",
            "Accuarcy: 99.65\n",
            "Average loss: 0.00010650803278094828\n",
            "Model Saved!\n",
            "[ Train epoch: 5 ]\n",
            "Train accuarcy: 99.97833333333334\n",
            "Train average loss: 1.079829009504465e-05\n",
            "[ Evaluate epoch: 6 ]\n",
            "Dataset: Train\n",
            "Accuarcy: 99.99833333333333\n",
            "Average loss: 3.874707503564423e-06\n",
            "[ Evaluate epoch: 6 ]\n",
            "Dataset: Test\n",
            "Accuarcy: 99.63\n",
            "Average loss: 0.00011575902498007053\n",
            "Model Saved!\n",
            "[ Train epoch: 6 ]\n",
            "Train accuarcy: 99.98666666666666\n",
            "Train average loss: 7.432335140765645e-06\n",
            "[ Evaluate epoch: 7 ]\n",
            "Dataset: Train\n",
            "Accuarcy: 99.99833333333333\n",
            "Average loss: 2.99035070232397e-06\n",
            "[ Evaluate epoch: 7 ]\n",
            "Dataset: Test\n",
            "Accuarcy: 99.64\n",
            "Average loss: 0.00011398128286764404\n",
            "Model Saved!\n",
            "[ Train epoch: 7 ]\n",
            "Train accuarcy: 99.99833333333333\n",
            "Train average loss: 4.433208923849937e-06\n",
            "[ Evaluate epoch: 8 ]\n",
            "Dataset: Train\n",
            "Accuarcy: 100.0\n",
            "Average loss: 1.7921025688944308e-06\n",
            "[ Evaluate epoch: 8 ]\n",
            "Dataset: Test\n",
            "Accuarcy: 99.61\n",
            "Average loss: 0.00011008228978907936\n",
            "Model Saved!\n",
            "[ Train epoch: 8 ]\n",
            "Train accuarcy: 100.0\n",
            "Train average loss: 3.0046481792548243e-06\n",
            "[ Evaluate epoch: 9 ]\n",
            "Dataset: Train\n",
            "Accuarcy: 100.0\n",
            "Average loss: 1.5108602662924871e-06\n",
            "[ Evaluate epoch: 9 ]\n",
            "Dataset: Test\n",
            "Accuarcy: 99.62\n",
            "Average loss: 0.00011995214879389095\n",
            "Model Saved!\n",
            "[ Train epoch: 9 ]\n",
            "Train accuarcy: 100.0\n",
            "Train average loss: 2.7307468773263585e-06\n",
            "[ Evaluate epoch: 10 ]\n",
            "Dataset: Train\n",
            "Accuarcy: 100.0\n",
            "Average loss: 1.1510154035628754e-06\n",
            "[ Evaluate epoch: 10 ]\n",
            "Dataset: Test\n",
            "Accuarcy: 99.64\n",
            "Average loss: 0.00011954955528899518\n",
            "Model Saved!\n"
          ]
        }
      ]
    },
    {
      "cell_type": "code",
      "source": [
        "# 정확도(accuracy) 커브 시각화\n",
        "plt.plot([i for i in range(epoch + 1)], [i[0] for i in train_result])\n",
        "plt.plot([i for i in range(epoch + 1)], [i[0] for i in test_result])\n",
        "plt.xlabel(\"Epoch\")\n",
        "plt.ylabel(\"Accuracy\")\n",
        "plt.legend([\"train\", \"test\"])\n",
        "plt.show()"
      ],
      "metadata": {
        "colab": {
          "base_uri": "https://localhost:8080/",
          "height": 449
        },
        "id": "hTuDrfG2bLit",
        "outputId": "f6058c97-dcdf-487c-ede5-13b0f76db1d3"
      },
      "execution_count": 7,
      "outputs": [
        {
          "output_type": "display_data",
          "data": {
            "text/plain": [
              "<Figure size 640x480 with 1 Axes>"
            ],
            "image/png": "[encoded data removed]"
          },
          "metadata": {}
        }
      ]
    },
    {
      "cell_type": "code",
      "source": [
        "# 손실(loss) 커브 시각화\n",
        "plt.plot([i for i in range(epoch + 1)], [i[1] for i in train_result])\n",
        "plt.plot([i for i in range(epoch + 1)], [i[1] for i in test_result])\n",
        "plt.xlabel(\"Epoch\")\n",
        "plt.ylabel(\"Loss\")\n",
        "plt.legend([\"train\", \"test\"])\n",
        "plt.show()"
      ],
      "metadata": {
        "colab": {
          "base_uri": "https://localhost:8080/",
          "height": 449
        },
        "id": "RZE9ajZPlwuc",
        "outputId": "2d79bfef-df15-423d-d61f-97f84e68818f"
      },
      "execution_count": 8,
      "outputs": [
        {
          "output_type": "display_data",
          "data": {
            "text/plain": [
              "<Figure size 640x480 with 1 Axes>"
            ],
            "image/png": "[encoded data removed]"
          },
          "metadata": {}
        }
      ]
    },
    {
      "cell_type": "code",
      "source": [
        "# 혼동 행렬(Confusion Matrix) 시각화 (학습 데이터셋)\n",
        "net = torchvision.models.resnet18(pretrained=True)\n",
        "\n",
        "# 마지막 레이어의 차원을 10차원으로 조절\n",
        "num_features = net.fc.in_features\n",
        "net.fc = nn.Linear(num_features, 10)\n",
        "net = net.to(device)\n",
        "\n",
        "file_name = \"./checkpoint/Transfer_Learning_MNIST.pt\"\n",
        "checkpoint = torch.load(file_name)\n",
        "net.load_state_dict(checkpoint['net'])\n",
        "\n",
        "confusion_matrix = get_confusion_matrix(net, 10, transfer_train_loader)\n",
        "print(\"[ 각 클래스당 데이터 개수 ]\")\n",
        "print(confusion_matrix.sum(1))\n",
        "\n",
        "print(\"[ 혼동 행렬(confusion matrix) 시각화 ]\")\n",
        "# 행(row)은 실제 레이블, 열(column)은 모델이 분류한 레이블\n",
        "res = pd.DataFrame(confusion_matrix.numpy(), index = [i for i in range(10)], columns = [i for i in range(10)])\n",
        "plt.figure(figsize = (10, 7))\n",
        "sn.heatmap(res, annot=True)\n",
        "plt.show()\n",
        "\n",
        "print(\"[ 각 클래스에 따른 정확도 ]\")\n",
        "# (각 클래스마다 정답 개수 / 각 클래스마다 데이터의 개수)\n",
        "print(confusion_matrix.diag() / confusion_matrix.sum(1))\n",
        "\n",
        "print(\"[ 전체 평균 정확도 ]\")\n",
        "print(confusion_matrix.diag().sum() / confusion_matrix.sum())"
      ],
      "metadata": {
        "colab": {
          "base_uri": "https://localhost:8080/",
          "height": 724
        },
        "id": "h4zVwC3LlyR5",
        "outputId": "0934898b-c088-4019-f775-9d554b973753"
      },
      "execution_count": 9,
      "outputs": [
        {
          "output_type": "stream",
          "name": "stdout",
          "text": [
            "[ 각 클래스당 데이터 개수 ]\n",
            "tensor([5923., 6742., 5958., 6131., 5842., 5421., 5918., 6265., 5851., 5949.])\n",
            "[ 혼동 행렬(confusion matrix) 시각화 ]\n"
          ]
        },
        {
          "output_type": "display_data",
          "data": {
            "text/plain": [
              "<Figure size 1000x700 with 2 Axes>"
            ],
            "image/png": "[encoded data removed]"
          },
          "metadata": {}
        },
        {
          "output_type": "stream",
          "name": "stdout",
          "text": [
            "[ 각 클래스에 따른 정확도 ]\n",
            "tensor([1., 1., 1., 1., 1., 1., 1., 1., 1., 1.])\n",
            "[ 전체 평균 정확도 ]\n",
            "tensor(1.)\n"
          ]
        }
      ]
    },
    {
      "cell_type": "code",
      "source": [
        "# 혼동 행렬(Confusion Matrix) 시각화 (테스트 데이터셋)\n",
        "net = torchvision.models.resnet18(pretrained=True)\n",
        "\n",
        "# 마지막 레이어의 차원을 10차원으로 조절\n",
        "num_features = net.fc.in_features\n",
        "net.fc = nn.Linear(num_features, 10)\n",
        "net = net.to(device)\n",
        "\n",
        "file_name = \"./checkpoint/Transfer_Learning_MNIST.pt\"\n",
        "checkpoint = torch.load(file_name)\n",
        "net.load_state_dict(checkpoint['net'])\n",
        "\n",
        "confusion_matrix = get_confusion_matrix(net, 10, transfer_test_loader)\n",
        "print(\"[ 각 클래스당 데이터 개수 ]\")\n",
        "print(confusion_matrix.sum(1))\n",
        "\n",
        "print(\"[ 혼동 행렬(confusion matrix) 시각화 ]\")\n",
        "# 행(row)은 실제 레이블, 열(column)은 모델이 분류한 레이블\n",
        "res = pd.DataFrame(confusion_matrix.numpy(), index = [i for i in range(10)], columns = [i for i in range(10)])\n",
        "plt.figure(figsize = (10, 7))\n",
        "sn.heatmap(res, annot=True)\n",
        "plt.show()\n",
        "\n",
        "print(\"[ 각 클래스에 따른 정확도 ]\")\n",
        "# (각 클래스마다 정답 개수 / 각 클래스마다 데이터의 개수)\n",
        "print(confusion_matrix.diag() / confusion_matrix.sum(1))\n",
        "\n",
        "print(\"[ 전체 평균 정확도 ]\")\n",
        "print(confusion_matrix.diag().sum() / confusion_matrix.sum())"
      ],
      "metadata": {
        "colab": {
          "base_uri": "https://localhost:8080/",
          "height": 869
        },
        "id": "bPfxj-ZWlzP6",
        "outputId": "2697af6f-ed98-438b-f35d-809d67156b45"
      },
      "execution_count": 10,
      "outputs": [
        {
          "output_type": "stream",
          "name": "stderr",
          "text": [
            "/usr/local/lib/python3.10/dist-packages/torchvision/models/_utils.py:208: UserWarning: The parameter 'pretrained' is deprecated since 0.13 and may be removed in the future, please use 'weights' instead.\n",
            "  warnings.warn(\n",
            "/usr/local/lib/python3.10/dist-packages/torchvision/models/_utils.py:223: UserWarning: Arguments other than a weight enum or `None` for 'weights' are deprecated since 0.13 and may be removed in the future. The current behavior is equivalent to passing `weights=ResNet18_Weights.IMAGENET1K_V1`. You can also use `weights=ResNet18_Weights.DEFAULT` to get the most up-to-date weights.\n",
            "  warnings.warn(msg)\n",
            "/usr/local/lib/python3.10/dist-packages/torch/utils/data/dataloader.py:560: UserWarning: This DataLoader will create 4 worker processes in total. Our suggested max number of worker in current system is 2, which is smaller than what this DataLoader is going to create. Please be aware that excessive worker creation might get DataLoader running slow or even freeze, lower the worker number to avoid potential slowness/freeze if necessary.\n",
            "  warnings.warn(_create_warning_msg(\n"
          ]
        },
        {
          "output_type": "stream",
          "name": "stdout",
          "text": [
            "[ 각 클래스당 데이터 개수 ]\n",
            "tensor([ 980., 1135., 1032., 1010.,  982.,  892.,  958., 1028.,  974., 1009.])\n",
            "[ 혼동 행렬(confusion matrix) 시각화 ]\n"
          ]
        },
        {
          "output_type": "display_data",
          "data": {
            "text/plain": [
              "<Figure size 1000x700 with 2 Axes>"
            ],
            "image/png": "[encoded data removed]"
          },
          "metadata": {}
        },
        {
          "output_type": "stream",
          "name": "stdout",
          "text": [
            "[ 각 클래스에 따른 정확도 ]\n",
            "tensor([1.0000, 0.9991, 0.9961, 0.9990, 0.9990, 0.9922, 0.9916, 0.9951, 0.9969,\n",
            "        0.9941])\n",
            "[ 전체 평균 정확도 ]\n",
            "tensor(0.9964)\n"
          ]
        }
      ]
    },
    {
      "cell_type": "markdown",
      "source": [
        "### 학습 이후 학습된 모델 다운로드 하기"
      ],
      "metadata": {
        "id": "AR5PSNvpl2fO"
      }
    },
    {
      "cell_type": "code",
      "source": [
        "from google.colab import files"
      ],
      "metadata": {
        "id": "RvDDS2CLl1o7"
      },
      "execution_count": 11,
      "outputs": []
    },
    {
      "cell_type": "code",
      "source": [
        "files.download(\"./checkpoint/Transfer_Learning_MNIST.pt\")"
      ],
      "metadata": {
        "colab": {
          "base_uri": "https://localhost:8080/",
          "height": 34
        },
        "id": "uajgDGfjl8-k",
        "outputId": "d3272971-2612-416c-dc21-80d48fd06edd"
      },
      "execution_count": 12,
      "outputs": [
        {
          "output_type": "display_data",
          "data": {
            "text/plain": [
              "<IPython.core.display.Javascript object>"
            ],
            "application/javascript": [
              "\n",
              "    async function download(id, filename, size) {\n",
              "      if (!google.colab.kernel.accessAllowed) {\n",
              "        return;\n",
              "      }\n",
              "      const div = document.createElement('div');\n",
              "      const label = document.createElement('label');\n",
              "      label.textContent = `Downloading \"${filename}\": `;\n",
              "      div.appendChild(label);\n",
              "      const progress = document.createElement('progress');\n",
              "      progress.max = size;\n",
              "      div.appendChild(progress);\n",
              "      document.body.appendChild(div);\n",
              "\n",
              "      const buffers = [];\n",
              "      let downloaded = 0;\n",
              "\n",
              "      const channel = await google.colab.kernel.comms.open(id);\n",
              "      // Send a message to notify the kernel that we're ready.\n",
              "      channel.send({})\n",
              "\n",
              "      for await (const message of channel.messages) {\n",
              "        // Send a message to notify the kernel that we're ready.\n",
              "        channel.send({})\n",
              "        if (message.buffers) {\n",
              "          for (const buffer of message.buffers) {\n",
              "            buffers.push(buffer);\n",
              "            downloaded += buffer.byteLength;\n",
              "            progress.value = downloaded;\n",
              "          }\n",
              "        }\n",
              "      }\n",
              "      const blob = new Blob(buffers, {type: 'application/binary'});\n",
              "      const a = document.createElement('a');\n",
              "      a.href = window.URL.createObjectURL(blob);\n",
              "      a.download = filename;\n",
              "      div.appendChild(a);\n",
              "      a.click();\n",
              "      div.remove();\n",
              "    }\n",
              "  "
            ]
          },
          "metadata": {}
        },
        {
          "output_type": "display_data",
          "data": {
            "text/plain": [
              "<IPython.core.display.Javascript object>"
            ],
            "application/javascript": [
              "download(\"download_2ac061e0-b3df-4fb4-8a8e-1b15891c2b8a\", \"Transfer_Learning_MNIST.pt\", 44806989)"
            ]
          },
          "metadata": {}
        }
      ]
    }
  ]
}